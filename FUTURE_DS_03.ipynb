{
 "cells": [
  {
   "cell_type": "markdown",
   "id": "9712274c",
   "metadata": {},
   "source": [
    "# <div style=\"text-align: center;\">FUTURE INTERNS INTERNSHIP TASK 3</div>"
   ]
  },
  {
   "cell_type": "markdown",
   "id": "ba7b2da1",
   "metadata": {},
   "source": [
    "## Project description\n",
    "In this project, I aimed to predict loan approval statuses for applicants using machine learning techniques. The process involved data manipulation, data cleaning, and analysis of a dataset containing features related to applicants demographics, financial details, and loan characteristics. The goal was to predict whether a loan would be approved based on the applicants data."
   ]
  },
  {
   "cell_type": "markdown",
   "id": "eacc6a03",
   "metadata": {},
   "source": [
    "## Dataset variables\n",
    "The Titanic dataset consists of several features such as:\n",
    "\n",
    "- **Loan_ID**: Unique identifier for each loan application. \n",
    "- **Gender**: Gender of the applicant.\n",
    "- **Married**: Applicant's marital status.\n",
    "- **Dependents**: Number of dependents the applicant has.\n",
    "- **Education**: Applicant’s education level. \n",
    "- **Self_Employed**: Whether the applicant is self-employed.\n",
    "- **ApplicantIncome**: Income of the applicant.\n",
    "- **CoapplicantIncome**: Income of the co-applicant. \n",
    "- **LoanAmount**: Loan amount requested by the applicant.\n",
    "- **Loan_Amount_Term**: Term of the loan.\n",
    "- **Credit_History**: Applicant’s credit history(\"1\"=good credit, \"0\"=bad credit).\n",
    "- **Property_Area**: Type of property area where the applicant resides.\n",
    "- **Loan_Status**: The target variable representing whether the loan was approved(\"Y\"=Yes, \"N\"=No)."
   ]
  },
  {
   "cell_type": "markdown",
   "id": "429a91b6",
   "metadata": {},
   "source": [
    "## Importing libraries"
   ]
  },
  {
   "cell_type": "code",
   "execution_count": 226,
   "id": "ec26b972",
   "metadata": {},
   "outputs": [],
   "source": [
    "import numpy as np\n",
    "import pandas as pd\n",
    "import matplotlib.pyplot as plt\n",
    "import seaborn as sns\n",
    "from sklearn.model_selection import train_test_split\n",
    "from sklearn.preprocessing import LabelEncoder\n",
    "from sklearn.preprocessing import StandardScaler\n",
    "from sklearn.ensemble import RandomForestClassifier\n",
    "from sklearn.metrics import accuracy_score, confusion_matrix, classification_report\n",
    "from sklearn.tree import DecisionTreeClassifier\n",
    "from sklearn.naive_bayes import GaussianNB\n",
    "import xgboost as xgb\n",
    "%matplotlib inline"
   ]
  },
  {
   "cell_type": "markdown",
   "id": "ede17536",
   "metadata": {},
   "source": [
    "## Data exploration"
   ]
  },
  {
   "cell_type": "code",
   "execution_count": 227,
   "id": "4d03e70d",
   "metadata": {},
   "outputs": [],
   "source": [
    "#Load the data\n",
    "df = pd.read_csv(\"loan.csv\")"
   ]
  },
  {
   "cell_type": "code",
   "execution_count": 228,
   "id": "0e8b08dd",
   "metadata": {},
   "outputs": [
    {
     "data": {
      "text/html": [
       "<div>\n",
       "<style scoped>\n",
       "    .dataframe tbody tr th:only-of-type {\n",
       "        vertical-align: middle;\n",
       "    }\n",
       "\n",
       "    .dataframe tbody tr th {\n",
       "        vertical-align: top;\n",
       "    }\n",
       "\n",
       "    .dataframe thead th {\n",
       "        text-align: right;\n",
       "    }\n",
       "</style>\n",
       "<table border=\"1\" class=\"dataframe\">\n",
       "  <thead>\n",
       "    <tr style=\"text-align: right;\">\n",
       "      <th></th>\n",
       "      <th>Loan_ID</th>\n",
       "      <th>Gender</th>\n",
       "      <th>Married</th>\n",
       "      <th>Dependents</th>\n",
       "      <th>Education</th>\n",
       "      <th>Self_Employed</th>\n",
       "      <th>ApplicantIncome</th>\n",
       "      <th>CoapplicantIncome</th>\n",
       "      <th>LoanAmount</th>\n",
       "      <th>Loan_Amount_Term</th>\n",
       "      <th>Credit_History</th>\n",
       "      <th>Property_Area</th>\n",
       "      <th>Loan_Status</th>\n",
       "    </tr>\n",
       "  </thead>\n",
       "  <tbody>\n",
       "    <tr>\n",
       "      <th>0</th>\n",
       "      <td>LP001002</td>\n",
       "      <td>Male</td>\n",
       "      <td>No</td>\n",
       "      <td>0</td>\n",
       "      <td>Graduate</td>\n",
       "      <td>No</td>\n",
       "      <td>5849</td>\n",
       "      <td>0.0</td>\n",
       "      <td>NaN</td>\n",
       "      <td>360.0</td>\n",
       "      <td>1.0</td>\n",
       "      <td>Urban</td>\n",
       "      <td>Y</td>\n",
       "    </tr>\n",
       "    <tr>\n",
       "      <th>1</th>\n",
       "      <td>LP001003</td>\n",
       "      <td>Male</td>\n",
       "      <td>Yes</td>\n",
       "      <td>1</td>\n",
       "      <td>Graduate</td>\n",
       "      <td>No</td>\n",
       "      <td>4583</td>\n",
       "      <td>1508.0</td>\n",
       "      <td>128.0</td>\n",
       "      <td>360.0</td>\n",
       "      <td>1.0</td>\n",
       "      <td>Rural</td>\n",
       "      <td>N</td>\n",
       "    </tr>\n",
       "    <tr>\n",
       "      <th>2</th>\n",
       "      <td>LP001005</td>\n",
       "      <td>Male</td>\n",
       "      <td>Yes</td>\n",
       "      <td>0</td>\n",
       "      <td>Graduate</td>\n",
       "      <td>Yes</td>\n",
       "      <td>3000</td>\n",
       "      <td>0.0</td>\n",
       "      <td>66.0</td>\n",
       "      <td>360.0</td>\n",
       "      <td>1.0</td>\n",
       "      <td>Urban</td>\n",
       "      <td>Y</td>\n",
       "    </tr>\n",
       "    <tr>\n",
       "      <th>3</th>\n",
       "      <td>LP001006</td>\n",
       "      <td>Male</td>\n",
       "      <td>Yes</td>\n",
       "      <td>0</td>\n",
       "      <td>Not Graduate</td>\n",
       "      <td>No</td>\n",
       "      <td>2583</td>\n",
       "      <td>2358.0</td>\n",
       "      <td>120.0</td>\n",
       "      <td>360.0</td>\n",
       "      <td>1.0</td>\n",
       "      <td>Urban</td>\n",
       "      <td>Y</td>\n",
       "    </tr>\n",
       "    <tr>\n",
       "      <th>4</th>\n",
       "      <td>LP001008</td>\n",
       "      <td>Male</td>\n",
       "      <td>No</td>\n",
       "      <td>0</td>\n",
       "      <td>Graduate</td>\n",
       "      <td>No</td>\n",
       "      <td>6000</td>\n",
       "      <td>0.0</td>\n",
       "      <td>141.0</td>\n",
       "      <td>360.0</td>\n",
       "      <td>1.0</td>\n",
       "      <td>Urban</td>\n",
       "      <td>Y</td>\n",
       "    </tr>\n",
       "  </tbody>\n",
       "</table>\n",
       "</div>"
      ],
      "text/plain": [
       "    Loan_ID Gender Married Dependents     Education Self_Employed  \\\n",
       "0  LP001002   Male      No          0      Graduate            No   \n",
       "1  LP001003   Male     Yes          1      Graduate            No   \n",
       "2  LP001005   Male     Yes          0      Graduate           Yes   \n",
       "3  LP001006   Male     Yes          0  Not Graduate            No   \n",
       "4  LP001008   Male      No          0      Graduate            No   \n",
       "\n",
       "   ApplicantIncome  CoapplicantIncome  LoanAmount  Loan_Amount_Term  \\\n",
       "0             5849                0.0         NaN             360.0   \n",
       "1             4583             1508.0       128.0             360.0   \n",
       "2             3000                0.0        66.0             360.0   \n",
       "3             2583             2358.0       120.0             360.0   \n",
       "4             6000                0.0       141.0             360.0   \n",
       "\n",
       "   Credit_History Property_Area Loan_Status  \n",
       "0             1.0         Urban           Y  \n",
       "1             1.0         Rural           N  \n",
       "2             1.0         Urban           Y  \n",
       "3             1.0         Urban           Y  \n",
       "4             1.0         Urban           Y  "
      ]
     },
     "execution_count": 228,
     "metadata": {},
     "output_type": "execute_result"
    }
   ],
   "source": [
    "#View the first five rows\n",
    "df.head()"
   ]
  },
  {
   "cell_type": "code",
   "execution_count": 229,
   "id": "c87a316d",
   "metadata": {},
   "outputs": [
    {
     "data": {
      "text/html": [
       "<div>\n",
       "<style scoped>\n",
       "    .dataframe tbody tr th:only-of-type {\n",
       "        vertical-align: middle;\n",
       "    }\n",
       "\n",
       "    .dataframe tbody tr th {\n",
       "        vertical-align: top;\n",
       "    }\n",
       "\n",
       "    .dataframe thead th {\n",
       "        text-align: right;\n",
       "    }\n",
       "</style>\n",
       "<table border=\"1\" class=\"dataframe\">\n",
       "  <thead>\n",
       "    <tr style=\"text-align: right;\">\n",
       "      <th></th>\n",
       "      <th>Loan_ID</th>\n",
       "      <th>Gender</th>\n",
       "      <th>Married</th>\n",
       "      <th>Dependents</th>\n",
       "      <th>Education</th>\n",
       "      <th>Self_Employed</th>\n",
       "      <th>ApplicantIncome</th>\n",
       "      <th>CoapplicantIncome</th>\n",
       "      <th>LoanAmount</th>\n",
       "      <th>Loan_Amount_Term</th>\n",
       "      <th>Credit_History</th>\n",
       "      <th>Property_Area</th>\n",
       "      <th>Loan_Status</th>\n",
       "    </tr>\n",
       "  </thead>\n",
       "  <tbody>\n",
       "    <tr>\n",
       "      <th>609</th>\n",
       "      <td>LP002978</td>\n",
       "      <td>Female</td>\n",
       "      <td>No</td>\n",
       "      <td>0</td>\n",
       "      <td>Graduate</td>\n",
       "      <td>No</td>\n",
       "      <td>2900</td>\n",
       "      <td>0.0</td>\n",
       "      <td>71.0</td>\n",
       "      <td>360.0</td>\n",
       "      <td>1.0</td>\n",
       "      <td>Rural</td>\n",
       "      <td>Y</td>\n",
       "    </tr>\n",
       "    <tr>\n",
       "      <th>610</th>\n",
       "      <td>LP002979</td>\n",
       "      <td>Male</td>\n",
       "      <td>Yes</td>\n",
       "      <td>3+</td>\n",
       "      <td>Graduate</td>\n",
       "      <td>No</td>\n",
       "      <td>4106</td>\n",
       "      <td>0.0</td>\n",
       "      <td>40.0</td>\n",
       "      <td>180.0</td>\n",
       "      <td>1.0</td>\n",
       "      <td>Rural</td>\n",
       "      <td>Y</td>\n",
       "    </tr>\n",
       "    <tr>\n",
       "      <th>611</th>\n",
       "      <td>LP002983</td>\n",
       "      <td>Male</td>\n",
       "      <td>Yes</td>\n",
       "      <td>1</td>\n",
       "      <td>Graduate</td>\n",
       "      <td>No</td>\n",
       "      <td>8072</td>\n",
       "      <td>240.0</td>\n",
       "      <td>253.0</td>\n",
       "      <td>360.0</td>\n",
       "      <td>1.0</td>\n",
       "      <td>Urban</td>\n",
       "      <td>Y</td>\n",
       "    </tr>\n",
       "    <tr>\n",
       "      <th>612</th>\n",
       "      <td>LP002984</td>\n",
       "      <td>Male</td>\n",
       "      <td>Yes</td>\n",
       "      <td>2</td>\n",
       "      <td>Graduate</td>\n",
       "      <td>No</td>\n",
       "      <td>7583</td>\n",
       "      <td>0.0</td>\n",
       "      <td>187.0</td>\n",
       "      <td>360.0</td>\n",
       "      <td>1.0</td>\n",
       "      <td>Urban</td>\n",
       "      <td>Y</td>\n",
       "    </tr>\n",
       "    <tr>\n",
       "      <th>613</th>\n",
       "      <td>LP002990</td>\n",
       "      <td>Female</td>\n",
       "      <td>No</td>\n",
       "      <td>0</td>\n",
       "      <td>Graduate</td>\n",
       "      <td>Yes</td>\n",
       "      <td>4583</td>\n",
       "      <td>0.0</td>\n",
       "      <td>133.0</td>\n",
       "      <td>360.0</td>\n",
       "      <td>0.0</td>\n",
       "      <td>Semiurban</td>\n",
       "      <td>N</td>\n",
       "    </tr>\n",
       "  </tbody>\n",
       "</table>\n",
       "</div>"
      ],
      "text/plain": [
       "      Loan_ID  Gender Married Dependents Education Self_Employed  \\\n",
       "609  LP002978  Female      No          0  Graduate            No   \n",
       "610  LP002979    Male     Yes         3+  Graduate            No   \n",
       "611  LP002983    Male     Yes          1  Graduate            No   \n",
       "612  LP002984    Male     Yes          2  Graduate            No   \n",
       "613  LP002990  Female      No          0  Graduate           Yes   \n",
       "\n",
       "     ApplicantIncome  CoapplicantIncome  LoanAmount  Loan_Amount_Term  \\\n",
       "609             2900                0.0        71.0             360.0   \n",
       "610             4106                0.0        40.0             180.0   \n",
       "611             8072              240.0       253.0             360.0   \n",
       "612             7583                0.0       187.0             360.0   \n",
       "613             4583                0.0       133.0             360.0   \n",
       "\n",
       "     Credit_History Property_Area Loan_Status  \n",
       "609             1.0         Rural           Y  \n",
       "610             1.0         Rural           Y  \n",
       "611             1.0         Urban           Y  \n",
       "612             1.0         Urban           Y  \n",
       "613             0.0     Semiurban           N  "
      ]
     },
     "execution_count": 229,
     "metadata": {},
     "output_type": "execute_result"
    }
   ],
   "source": [
    "#View the last five rows\n",
    "df.tail()"
   ]
  },
  {
   "cell_type": "code",
   "execution_count": 230,
   "id": "4803975d",
   "metadata": {},
   "outputs": [
    {
     "data": {
      "text/plain": [
       "(614, 13)"
      ]
     },
     "execution_count": 230,
     "metadata": {},
     "output_type": "execute_result"
    }
   ],
   "source": [
    "#Dimensions of the dataset\n",
    "df.shape"
   ]
  },
  {
   "cell_type": "markdown",
   "id": "21d31fcb",
   "metadata": {},
   "source": [
    "The dataset has 614 rows and 13 columns. "
   ]
  },
  {
   "cell_type": "code",
   "execution_count": 231,
   "id": "ff1b5ae4",
   "metadata": {},
   "outputs": [
    {
     "name": "stdout",
     "output_type": "stream",
     "text": [
      "<class 'pandas.core.frame.DataFrame'>\n",
      "RangeIndex: 614 entries, 0 to 613\n",
      "Data columns (total 13 columns):\n",
      " #   Column             Non-Null Count  Dtype  \n",
      "---  ------             --------------  -----  \n",
      " 0   Loan_ID            614 non-null    object \n",
      " 1   Gender             601 non-null    object \n",
      " 2   Married            611 non-null    object \n",
      " 3   Dependents         599 non-null    object \n",
      " 4   Education          614 non-null    object \n",
      " 5   Self_Employed      582 non-null    object \n",
      " 6   ApplicantIncome    614 non-null    int64  \n",
      " 7   CoapplicantIncome  614 non-null    float64\n",
      " 8   LoanAmount         592 non-null    float64\n",
      " 9   Loan_Amount_Term   600 non-null    float64\n",
      " 10  Credit_History     564 non-null    float64\n",
      " 11  Property_Area      614 non-null    object \n",
      " 12  Loan_Status        614 non-null    object \n",
      "dtypes: float64(4), int64(1), object(8)\n",
      "memory usage: 62.5+ KB\n"
     ]
    }
   ],
   "source": [
    "#A short summary of the dataset\n",
    "df.info()"
   ]
  },
  {
   "cell_type": "markdown",
   "id": "f2b25c72",
   "metadata": {},
   "source": [
    "## Data cleaning"
   ]
  },
  {
   "cell_type": "code",
   "execution_count": 232,
   "id": "836e471a",
   "metadata": {},
   "outputs": [
    {
     "data": {
      "text/plain": [
       "0"
      ]
     },
     "execution_count": 232,
     "metadata": {},
     "output_type": "execute_result"
    }
   ],
   "source": [
    "#Duplicated values\n",
    "df.duplicated().sum()"
   ]
  },
  {
   "cell_type": "code",
   "execution_count": 233,
   "id": "be5b7bd0",
   "metadata": {},
   "outputs": [
    {
     "data": {
      "text/plain": [
       "Loan_ID               0\n",
       "Gender               13\n",
       "Married               3\n",
       "Dependents           15\n",
       "Education             0\n",
       "Self_Employed        32\n",
       "ApplicantIncome       0\n",
       "CoapplicantIncome     0\n",
       "LoanAmount           22\n",
       "Loan_Amount_Term     14\n",
       "Credit_History       50\n",
       "Property_Area         0\n",
       "Loan_Status           0\n",
       "dtype: int64"
      ]
     },
     "execution_count": 233,
     "metadata": {},
     "output_type": "execute_result"
    }
   ],
   "source": [
    "#Null values\n",
    "df.isna().sum()"
   ]
  },
  {
   "cell_type": "markdown",
   "id": "a112aeec",
   "metadata": {},
   "source": [
    "Seven columns contain null values."
   ]
  },
  {
   "cell_type": "code",
   "execution_count": 234,
   "id": "3fb1563b",
   "metadata": {},
   "outputs": [
    {
     "data": {
      "text/plain": [
       "Loan_ID              0.000000\n",
       "Gender               2.117264\n",
       "Married              0.488599\n",
       "Dependents           2.442997\n",
       "Education            0.000000\n",
       "Self_Employed        5.211726\n",
       "ApplicantIncome      0.000000\n",
       "CoapplicantIncome    0.000000\n",
       "LoanAmount           3.583062\n",
       "Loan_Amount_Term     2.280130\n",
       "Credit_History       8.143322\n",
       "Property_Area        0.000000\n",
       "Loan_Status          0.000000\n",
       "dtype: float64"
      ]
     },
     "execution_count": 234,
     "metadata": {},
     "output_type": "execute_result"
    }
   ],
   "source": [
    "#The proportion of null values in each columns\n",
    "((df.isna().sum())/(len(df)))*100"
   ]
  },
  {
   "cell_type": "markdown",
   "id": "3892d7f5",
   "metadata": {},
   "source": [
    "-Gender, Married, Dependents, Self_Employed, Loan_Amount_Term, Credit_History: as the percentage of the missing values of these columns are not too high and they are qualitative variables, I'll fill in missing values with the mode.<br>-LoanAmount: I'll fill in missing values with the median, as LoanAmount is a continuous variable. "
   ]
  },
  {
   "cell_type": "code",
   "execution_count": 235,
   "id": "65ca4af3",
   "metadata": {},
   "outputs": [],
   "source": [
    "data_cleaned = df.copy()"
   ]
  },
  {
   "cell_type": "code",
   "execution_count": 236,
   "id": "15b651be",
   "metadata": {},
   "outputs": [
    {
     "name": "stdout",
     "output_type": "stream",
     "text": [
      "Loan_ID              0\n",
      "Gender               0\n",
      "Married              0\n",
      "Dependents           0\n",
      "Education            0\n",
      "Self_Employed        0\n",
      "ApplicantIncome      0\n",
      "CoapplicantIncome    0\n",
      "LoanAmount           0\n",
      "Loan_Amount_Term     0\n",
      "Credit_History       0\n",
      "Property_Area        0\n",
      "Loan_Status          0\n",
      "dtype: int64\n"
     ]
    }
   ],
   "source": [
    "#Filling null values\n",
    "qual_vars = [\"Gender\", \"Married\", \"Dependents\", \"Self_Employed\", \"Loan_Amount_Term\", \"Credit_History\"]\n",
    "for column in qual_vars:\n",
    "    data_cleaned[column].fillna(data_cleaned[column].mode()[0], inplace=True)\n",
    "data_cleaned[\"LoanAmount\"].fillna(data_cleaned[\"LoanAmount\"].median(), inplace=True) \n",
    "print(data_cleaned.isna().sum())"
   ]
  },
  {
   "cell_type": "code",
   "execution_count": 237,
   "id": "6c47d15a",
   "metadata": {},
   "outputs": [
    {
     "data": {
      "text/html": [
       "<div>\n",
       "<style scoped>\n",
       "    .dataframe tbody tr th:only-of-type {\n",
       "        vertical-align: middle;\n",
       "    }\n",
       "\n",
       "    .dataframe tbody tr th {\n",
       "        vertical-align: top;\n",
       "    }\n",
       "\n",
       "    .dataframe thead th {\n",
       "        text-align: right;\n",
       "    }\n",
       "</style>\n",
       "<table border=\"1\" class=\"dataframe\">\n",
       "  <thead>\n",
       "    <tr style=\"text-align: right;\">\n",
       "      <th></th>\n",
       "      <th>ApplicantIncome</th>\n",
       "      <th>CoapplicantIncome</th>\n",
       "      <th>LoanAmount</th>\n",
       "      <th>Loan_Amount_Term</th>\n",
       "      <th>Credit_History</th>\n",
       "    </tr>\n",
       "  </thead>\n",
       "  <tbody>\n",
       "    <tr>\n",
       "      <th>count</th>\n",
       "      <td>614.000000</td>\n",
       "      <td>614.000000</td>\n",
       "      <td>614.000000</td>\n",
       "      <td>614.000000</td>\n",
       "      <td>614.000000</td>\n",
       "    </tr>\n",
       "    <tr>\n",
       "      <th>mean</th>\n",
       "      <td>5403.459283</td>\n",
       "      <td>1621.245798</td>\n",
       "      <td>145.752443</td>\n",
       "      <td>342.410423</td>\n",
       "      <td>0.855049</td>\n",
       "    </tr>\n",
       "    <tr>\n",
       "      <th>std</th>\n",
       "      <td>6109.041673</td>\n",
       "      <td>2926.248369</td>\n",
       "      <td>84.107233</td>\n",
       "      <td>64.428629</td>\n",
       "      <td>0.352339</td>\n",
       "    </tr>\n",
       "    <tr>\n",
       "      <th>min</th>\n",
       "      <td>150.000000</td>\n",
       "      <td>0.000000</td>\n",
       "      <td>9.000000</td>\n",
       "      <td>12.000000</td>\n",
       "      <td>0.000000</td>\n",
       "    </tr>\n",
       "    <tr>\n",
       "      <th>25%</th>\n",
       "      <td>2877.500000</td>\n",
       "      <td>0.000000</td>\n",
       "      <td>100.250000</td>\n",
       "      <td>360.000000</td>\n",
       "      <td>1.000000</td>\n",
       "    </tr>\n",
       "    <tr>\n",
       "      <th>50%</th>\n",
       "      <td>3812.500000</td>\n",
       "      <td>1188.500000</td>\n",
       "      <td>128.000000</td>\n",
       "      <td>360.000000</td>\n",
       "      <td>1.000000</td>\n",
       "    </tr>\n",
       "    <tr>\n",
       "      <th>75%</th>\n",
       "      <td>5795.000000</td>\n",
       "      <td>2297.250000</td>\n",
       "      <td>164.750000</td>\n",
       "      <td>360.000000</td>\n",
       "      <td>1.000000</td>\n",
       "    </tr>\n",
       "    <tr>\n",
       "      <th>max</th>\n",
       "      <td>81000.000000</td>\n",
       "      <td>41667.000000</td>\n",
       "      <td>700.000000</td>\n",
       "      <td>480.000000</td>\n",
       "      <td>1.000000</td>\n",
       "    </tr>\n",
       "  </tbody>\n",
       "</table>\n",
       "</div>"
      ],
      "text/plain": [
       "       ApplicantIncome  CoapplicantIncome  LoanAmount  Loan_Amount_Term  \\\n",
       "count       614.000000         614.000000  614.000000        614.000000   \n",
       "mean       5403.459283        1621.245798  145.752443        342.410423   \n",
       "std        6109.041673        2926.248369   84.107233         64.428629   \n",
       "min         150.000000           0.000000    9.000000         12.000000   \n",
       "25%        2877.500000           0.000000  100.250000        360.000000   \n",
       "50%        3812.500000        1188.500000  128.000000        360.000000   \n",
       "75%        5795.000000        2297.250000  164.750000        360.000000   \n",
       "max       81000.000000       41667.000000  700.000000        480.000000   \n",
       "\n",
       "       Credit_History  \n",
       "count      614.000000  \n",
       "mean         0.855049  \n",
       "std          0.352339  \n",
       "min          0.000000  \n",
       "25%          1.000000  \n",
       "50%          1.000000  \n",
       "75%          1.000000  \n",
       "max          1.000000  "
      ]
     },
     "execution_count": 237,
     "metadata": {},
     "output_type": "execute_result"
    }
   ],
   "source": [
    "#Dealing with outliers\n",
    "#Select numeric columns\n",
    "numeric_cols = [\"ApplicantIncome\", \"CoapplicantIncome\", \"LoanAmount\", \"Loan_Amount_Term\", \"Credit_History\"]\n",
    "sub_data = data_cleaned[numeric_cols]\n",
    "sub_data.describe()"
   ]
  },
  {
   "cell_type": "code",
   "execution_count": 238,
   "id": "e102ba36",
   "metadata": {},
   "outputs": [
    {
     "data": {
      "image/png": "[encoded data removed]",
      "text/plain": [
       "<Figure size 640x480 with 1 Axes>"
      ]
     },
     "metadata": {},
     "output_type": "display_data"
    },
    {
     "data": {
      "image/png": "[encoded data removed]",
      "text/plain": [
       "<Figure size 640x480 with 1 Axes>"
      ]
     },
     "metadata": {},
     "output_type": "display_data"
    },
    {
     "data": {
      "image/png": "[encoded data removed]",
      "text/plain": [
       "<Figure size 640x480 with 1 Axes>"
      ]
     },
     "metadata": {},
     "output_type": "display_data"
    },
    {
     "data": {
      "image/png": "[encoded data removed]",
      "text/plain": [
       "<Figure size 640x480 with 1 Axes>"
      ]
     },
     "metadata": {},
     "output_type": "display_data"
    },
    {
     "data": {
      "image/png": "[encoded data removed]",
      "text/plain": [
       "<Figure size 640x480 with 1 Axes>"
      ]
     },
     "metadata": {},
     "output_type": "display_data"
    }
   ],
   "source": [
    "#Visualization of the outliers with boxplots\n",
    "for col in numeric_cols:\n",
    "    sns.boxplot(y=col, data=data_cleaned)\n",
    "    plt.title(\"Boxplot of {}\".format(col))\n",
    "    plt.show()"
   ]
  },
  {
   "cell_type": "markdown",
   "id": "ea128e17",
   "metadata": {},
   "source": [
    "Based on the statistical analysis and boxplots of the numeric columns, we observe the presence of numerous outliers. However, since this is real financial data, it is reasonable to retain these outliers as they represent valid cases. Additionally, the \"CoapplicantIncome\" column contains several zero values, which can be interpreted as indicating that these applicants did not have a coapplicant."
   ]
  },
  {
   "cell_type": "markdown",
   "id": "ebc3b087",
   "metadata": {},
   "source": [
    "## Data visualization "
   ]
  },
  {
   "cell_type": "code",
   "execution_count": 239,
   "id": "2321d390",
   "metadata": {},
   "outputs": [
    {
     "name": "stdout",
     "output_type": "stream",
     "text": [
      "Loan_Status\n",
      "Y    422\n",
      "N    192\n",
      "Name: count, dtype: int64\n"
     ]
    },
    {
     "data": {
      "image/png": "[encoded data removed]",
      "text/plain": [
       "<Figure size 640x480 with 1 Axes>"
      ]
     },
     "metadata": {},
     "output_type": "display_data"
    }
   ],
   "source": [
    "#Loan Status Distribution\n",
    "print(data_cleaned[\"Loan_Status\"].value_counts())\n",
    "sns.countplot(x=\"Loan_Status\", data=data_cleaned)\n",
    "plt.title(\"Loan Status Distribution\")\n",
    "plt.show()"
   ]
  },
  {
   "cell_type": "code",
   "execution_count": 240,
   "id": "ff7d1bf0",
   "metadata": {},
   "outputs": [
    {
     "name": "stdout",
     "output_type": "stream",
     "text": [
      "Loan_Status  Gender\n",
      "N            Male      155\n",
      "             Female     37\n",
      "Y            Male      347\n",
      "             Female     75\n",
      "Name: count, dtype: int64\n"
     ]
    },
    {
     "data": {
      "image/png": "[encoded data removed]",
      "text/plain": [
       "<Figure size 640x480 with 1 Axes>"
      ]
     },
     "metadata": {},
     "output_type": "display_data"
    }
   ],
   "source": [
    "#Loan Status by Gender  \n",
    "print(data_cleaned.groupby(\"Loan_Status\")[\"Gender\"].value_counts())\n",
    "sns.countplot(x=\"Loan_Status\", hue=\"Gender\", data=data_cleaned)\n",
    "plt.title(\"Loan Status by Gender\")\n",
    "plt.show()"
   ]
  },
  {
   "cell_type": "code",
   "execution_count": 241,
   "id": "71855b32",
   "metadata": {},
   "outputs": [
    {
     "name": "stdout",
     "output_type": "stream",
     "text": [
      "Loan_Status  Married\n",
      "N            Yes        113\n",
      "             No          79\n",
      "Y            Yes        288\n",
      "             No         134\n",
      "Name: count, dtype: int64\n"
     ]
    },
    {
     "data": {
      "image/png": "[encoded data removed]",
      "text/plain": [
       "<Figure size 640x480 with 1 Axes>"
      ]
     },
     "metadata": {},
     "output_type": "display_data"
    }
   ],
   "source": [
    "#Loan Status by Marital Status \n",
    "print(data_cleaned.groupby(\"Loan_Status\")[\"Married\"].value_counts())\n",
    "sns.countplot(x=\"Loan_Status\", hue=\"Married\", data=data_cleaned)\n",
    "plt.title(\"Loan Status by Marital Status\")\n",
    "plt.show()"
   ]
  },
  {
   "cell_type": "code",
   "execution_count": 242,
   "id": "75a06587",
   "metadata": {},
   "outputs": [
    {
     "name": "stdout",
     "output_type": "stream",
     "text": [
      "Loan_Status  Credit_History\n",
      "N            1.0               110\n",
      "             0.0                82\n",
      "Y            1.0               415\n",
      "             0.0                 7\n",
      "Name: count, dtype: int64\n"
     ]
    },
    {
     "data": {
      "image/png": "[encoded data removed]",
      "text/plain": [
       "<Figure size 640x480 with 1 Axes>"
      ]
     },
     "metadata": {},
     "output_type": "display_data"
    }
   ],
   "source": [
    "#Loan Status by Credit History \n",
    "print(data_cleaned.groupby(\"Loan_Status\")[\"Credit_History\"].value_counts())\n",
    "sns.countplot(x=\"Loan_Status\", hue=\"Credit_History\", data=data_cleaned)\n",
    "plt.title(\"Loan Status by Credit History\")\n",
    "plt.show()"
   ]
  },
  {
   "cell_type": "code",
   "execution_count": 243,
   "id": "76b7e38a",
   "metadata": {},
   "outputs": [
    {
     "name": "stdout",
     "output_type": "stream",
     "text": [
      "Loan_Status  Property_Area\n",
      "N            Rural             69\n",
      "             Urban             69\n",
      "             Semiurban         54\n",
      "Y            Semiurban        179\n",
      "             Urban            133\n",
      "             Rural            110\n",
      "Name: count, dtype: int64\n"
     ]
    },
    {
     "data": {
      "image/png": "[encoded data removed]",
      "text/plain": [
       "<Figure size 640x480 with 1 Axes>"
      ]
     },
     "metadata": {},
     "output_type": "display_data"
    }
   ],
   "source": [
    "#Loan Status by Property Area \n",
    "print(data_cleaned.groupby(\"Loan_Status\")[\"Property_Area\"].value_counts())\n",
    "sns.countplot(x=\"Loan_Status\", hue=\"Property_Area\", data=data_cleaned)\n",
    "plt.title(\"Loan Status by Property Area\")\n",
    "plt.show()"
   ]
  },
  {
   "cell_type": "code",
   "execution_count": 244,
   "id": "dabe54bd",
   "metadata": {},
   "outputs": [
    {
     "name": "stdout",
     "output_type": "stream",
     "text": [
      "Loan_Status  Dependents\n",
      "N            0             113\n",
      "             1              36\n",
      "             2              25\n",
      "             3+             18\n",
      "Y            0             247\n",
      "             2              76\n",
      "             1              66\n",
      "             3+             33\n",
      "Name: count, dtype: int64\n"
     ]
    },
    {
     "data": {
      "image/png": "[encoded data removed]",
      "text/plain": [
       "<Figure size 640x480 with 1 Axes>"
      ]
     },
     "metadata": {},
     "output_type": "display_data"
    }
   ],
   "source": [
    "#Loan Status by Dependents \n",
    "print(data_cleaned.groupby(\"Loan_Status\")[\"Dependents\"].value_counts())\n",
    "sns.countplot(x=\"Loan_Status\", hue=\"Dependents\", data=data_cleaned)\n",
    "plt.title(\"Loan Status by Number of Dependents\")\n",
    "plt.show()"
   ]
  },
  {
   "cell_type": "markdown",
   "id": "c88d5b19",
   "metadata": {},
   "source": [
    "## Models building"
   ]
  },
  {
   "cell_type": "code",
   "execution_count": 245,
   "id": "1710a24b",
   "metadata": {},
   "outputs": [
    {
     "data": {
      "text/html": [
       "<div>\n",
       "<style scoped>\n",
       "    .dataframe tbody tr th:only-of-type {\n",
       "        vertical-align: middle;\n",
       "    }\n",
       "\n",
       "    .dataframe tbody tr th {\n",
       "        vertical-align: top;\n",
       "    }\n",
       "\n",
       "    .dataframe thead th {\n",
       "        text-align: right;\n",
       "    }\n",
       "</style>\n",
       "<table border=\"1\" class=\"dataframe\">\n",
       "  <thead>\n",
       "    <tr style=\"text-align: right;\">\n",
       "      <th></th>\n",
       "      <th>Loan_ID</th>\n",
       "      <th>Gender</th>\n",
       "      <th>Married</th>\n",
       "      <th>Dependents</th>\n",
       "      <th>Education</th>\n",
       "      <th>Self_Employed</th>\n",
       "      <th>ApplicantIncome</th>\n",
       "      <th>CoapplicantIncome</th>\n",
       "      <th>LoanAmount</th>\n",
       "      <th>Loan_Amount_Term</th>\n",
       "      <th>Credit_History</th>\n",
       "      <th>Property_Area</th>\n",
       "      <th>Loan_Status</th>\n",
       "      <th>LoanAmount_log</th>\n",
       "      <th>TotalIncome</th>\n",
       "      <th>TotalIncome_log</th>\n",
       "    </tr>\n",
       "  </thead>\n",
       "  <tbody>\n",
       "    <tr>\n",
       "      <th>0</th>\n",
       "      <td>LP001002</td>\n",
       "      <td>Male</td>\n",
       "      <td>No</td>\n",
       "      <td>0</td>\n",
       "      <td>Graduate</td>\n",
       "      <td>No</td>\n",
       "      <td>5849</td>\n",
       "      <td>0.0</td>\n",
       "      <td>128.0</td>\n",
       "      <td>360.0</td>\n",
       "      <td>1.0</td>\n",
       "      <td>Urban</td>\n",
       "      <td>Y</td>\n",
       "      <td>4.852030</td>\n",
       "      <td>5849.0</td>\n",
       "      <td>8.674026</td>\n",
       "    </tr>\n",
       "    <tr>\n",
       "      <th>1</th>\n",
       "      <td>LP001003</td>\n",
       "      <td>Male</td>\n",
       "      <td>Yes</td>\n",
       "      <td>1</td>\n",
       "      <td>Graduate</td>\n",
       "      <td>No</td>\n",
       "      <td>4583</td>\n",
       "      <td>1508.0</td>\n",
       "      <td>128.0</td>\n",
       "      <td>360.0</td>\n",
       "      <td>1.0</td>\n",
       "      <td>Rural</td>\n",
       "      <td>N</td>\n",
       "      <td>4.852030</td>\n",
       "      <td>6091.0</td>\n",
       "      <td>8.714568</td>\n",
       "    </tr>\n",
       "    <tr>\n",
       "      <th>2</th>\n",
       "      <td>LP001005</td>\n",
       "      <td>Male</td>\n",
       "      <td>Yes</td>\n",
       "      <td>0</td>\n",
       "      <td>Graduate</td>\n",
       "      <td>Yes</td>\n",
       "      <td>3000</td>\n",
       "      <td>0.0</td>\n",
       "      <td>66.0</td>\n",
       "      <td>360.0</td>\n",
       "      <td>1.0</td>\n",
       "      <td>Urban</td>\n",
       "      <td>Y</td>\n",
       "      <td>4.189655</td>\n",
       "      <td>3000.0</td>\n",
       "      <td>8.006368</td>\n",
       "    </tr>\n",
       "    <tr>\n",
       "      <th>3</th>\n",
       "      <td>LP001006</td>\n",
       "      <td>Male</td>\n",
       "      <td>Yes</td>\n",
       "      <td>0</td>\n",
       "      <td>Not Graduate</td>\n",
       "      <td>No</td>\n",
       "      <td>2583</td>\n",
       "      <td>2358.0</td>\n",
       "      <td>120.0</td>\n",
       "      <td>360.0</td>\n",
       "      <td>1.0</td>\n",
       "      <td>Urban</td>\n",
       "      <td>Y</td>\n",
       "      <td>4.787492</td>\n",
       "      <td>4941.0</td>\n",
       "      <td>8.505323</td>\n",
       "    </tr>\n",
       "    <tr>\n",
       "      <th>4</th>\n",
       "      <td>LP001008</td>\n",
       "      <td>Male</td>\n",
       "      <td>No</td>\n",
       "      <td>0</td>\n",
       "      <td>Graduate</td>\n",
       "      <td>No</td>\n",
       "      <td>6000</td>\n",
       "      <td>0.0</td>\n",
       "      <td>141.0</td>\n",
       "      <td>360.0</td>\n",
       "      <td>1.0</td>\n",
       "      <td>Urban</td>\n",
       "      <td>Y</td>\n",
       "      <td>4.948760</td>\n",
       "      <td>6000.0</td>\n",
       "      <td>8.699515</td>\n",
       "    </tr>\n",
       "  </tbody>\n",
       "</table>\n",
       "</div>"
      ],
      "text/plain": [
       "    Loan_ID Gender Married Dependents     Education Self_Employed  \\\n",
       "0  LP001002   Male      No          0      Graduate            No   \n",
       "1  LP001003   Male     Yes          1      Graduate            No   \n",
       "2  LP001005   Male     Yes          0      Graduate           Yes   \n",
       "3  LP001006   Male     Yes          0  Not Graduate            No   \n",
       "4  LP001008   Male      No          0      Graduate            No   \n",
       "\n",
       "   ApplicantIncome  CoapplicantIncome  LoanAmount  Loan_Amount_Term  \\\n",
       "0             5849                0.0       128.0             360.0   \n",
       "1             4583             1508.0       128.0             360.0   \n",
       "2             3000                0.0        66.0             360.0   \n",
       "3             2583             2358.0       120.0             360.0   \n",
       "4             6000                0.0       141.0             360.0   \n",
       "\n",
       "   Credit_History Property_Area Loan_Status  LoanAmount_log  TotalIncome  \\\n",
       "0             1.0         Urban           Y        4.852030       5849.0   \n",
       "1             1.0         Rural           N        4.852030       6091.0   \n",
       "2             1.0         Urban           Y        4.189655       3000.0   \n",
       "3             1.0         Urban           Y        4.787492       4941.0   \n",
       "4             1.0         Urban           Y        4.948760       6000.0   \n",
       "\n",
       "   TotalIncome_log  \n",
       "0         8.674026  \n",
       "1         8.714568  \n",
       "2         8.006368  \n",
       "3         8.505323  \n",
       "4         8.699515  "
      ]
     },
     "execution_count": 245,
     "metadata": {},
     "output_type": "execute_result"
    }
   ],
   "source": [
    "#Some transformations\n",
    "data_cleaned[\"LoanAmount_log\"] = np.log(data_cleaned[\"LoanAmount\"])\n",
    "data_cleaned[\"TotalIncome\"] = data_cleaned[\"ApplicantIncome\"] + data_cleaned[\"CoapplicantIncome\"]\n",
    "data_cleaned[\"TotalIncome_log\"] = np.log(data_cleaned[\"TotalIncome\"])\n",
    "data_cleaned.head()"
   ]
  },
  {
   "cell_type": "code",
   "execution_count": 246,
   "id": "90b0afe9",
   "metadata": {},
   "outputs": [],
   "source": [
    "#Gender, Married, Dependents, Education, Loan_Amount_Term, Credit_History, LoanAmount_log, TotalIncome\n",
    "X = data_cleaned[[\"Gender\", \"Married\", \"Dependents\", \"Education\", \"Loan_Amount_Term\", \"Credit_History\", \"LoanAmount_log\", \"TotalIncome\"]].values         \n",
    "#Loan Status column\n",
    "y = data_cleaned[\"Loan_Status\"].values"
   ]
  },
  {
   "cell_type": "code",
   "execution_count": 247,
   "id": "8294dde8",
   "metadata": {},
   "outputs": [
    {
     "data": {
      "text/plain": [
       "array([['Male', 'No', '0', ..., 1.0, 4.852030263919617, 5849.0],\n",
       "       ['Male', 'Yes', '1', ..., 1.0, 4.852030263919617, 6091.0],\n",
       "       ['Male', 'Yes', '0', ..., 1.0, 4.189654742026425, 3000.0],\n",
       "       ...,\n",
       "       ['Male', 'Yes', '1', ..., 1.0, 5.53338948872752, 8312.0],\n",
       "       ['Male', 'Yes', '2', ..., 1.0, 5.231108616854587, 7583.0],\n",
       "       ['Female', 'No', '0', ..., 0.0, 4.890349128221754, 4583.0]],\n",
       "      dtype=object)"
      ]
     },
     "execution_count": 247,
     "metadata": {},
     "output_type": "execute_result"
    }
   ],
   "source": [
    "X"
   ]
  },
  {
   "cell_type": "code",
   "execution_count": 248,
   "id": "66e7c21c",
   "metadata": {},
   "outputs": [
    {
     "data": {
      "text/plain": [
       "array(['Y', 'N', 'Y', 'Y', 'Y', 'Y', 'Y', 'N', 'Y', 'N', 'Y', 'Y', 'Y',\n",
       "       'N', 'Y', 'Y', 'Y', 'N', 'N', 'Y', 'N', 'Y', 'N', 'N', 'N', 'Y',\n",
       "       'Y', 'Y', 'N', 'Y', 'N', 'N', 'N', 'Y', 'N', 'Y', 'N', 'Y', 'Y',\n",
       "       'Y', 'N', 'Y', 'Y', 'Y', 'Y', 'Y', 'Y', 'Y', 'N', 'Y', 'Y', 'Y',\n",
       "       'N', 'N', 'N', 'Y', 'Y', 'N', 'Y', 'Y', 'Y', 'Y', 'N', 'N', 'N',\n",
       "       'N', 'N', 'Y', 'Y', 'N', 'Y', 'Y', 'Y', 'N', 'Y', 'N', 'N', 'N',\n",
       "       'N', 'Y', 'Y', 'Y', 'N', 'N', 'Y', 'Y', 'Y', 'Y', 'Y', 'Y', 'Y',\n",
       "       'Y', 'Y', 'Y', 'Y', 'N', 'Y', 'Y', 'Y', 'Y', 'Y', 'Y', 'Y', 'Y',\n",
       "       'Y', 'Y', 'Y', 'N', 'N', 'Y', 'Y', 'Y', 'N', 'Y', 'Y', 'Y', 'Y',\n",
       "       'Y', 'N', 'Y', 'Y', 'Y', 'Y', 'Y', 'Y', 'Y', 'Y', 'Y', 'N', 'N',\n",
       "       'Y', 'Y', 'Y', 'Y', 'Y', 'N', 'N', 'Y', 'N', 'N', 'N', 'Y', 'Y',\n",
       "       'Y', 'Y', 'Y', 'Y', 'Y', 'N', 'Y', 'N', 'Y', 'N', 'N', 'Y', 'Y',\n",
       "       'Y', 'Y', 'Y', 'Y', 'Y', 'N', 'N', 'Y', 'Y', 'Y', 'N', 'Y', 'N',\n",
       "       'Y', 'Y', 'Y', 'N', 'Y', 'N', 'Y', 'Y', 'N', 'Y', 'N', 'N', 'N',\n",
       "       'Y', 'N', 'Y', 'Y', 'N', 'Y', 'Y', 'Y', 'Y', 'N', 'N', 'Y', 'Y',\n",
       "       'N', 'Y', 'Y', 'Y', 'N', 'Y', 'Y', 'N', 'Y', 'Y', 'Y', 'Y', 'Y',\n",
       "       'Y', 'N', 'N', 'N', 'Y', 'Y', 'Y', 'Y', 'N', 'Y', 'N', 'Y', 'N',\n",
       "       'Y', 'Y', 'Y', 'Y', 'N', 'N', 'Y', 'Y', 'Y', 'Y', 'Y', 'Y', 'Y',\n",
       "       'Y', 'Y', 'N', 'Y', 'Y', 'Y', 'Y', 'N', 'Y', 'Y', 'Y', 'N', 'Y',\n",
       "       'Y', 'Y', 'Y', 'N', 'N', 'Y', 'Y', 'N', 'Y', 'N', 'N', 'N', 'N',\n",
       "       'Y', 'Y', 'N', 'Y', 'Y', 'Y', 'Y', 'Y', 'N', 'Y', 'Y', 'Y', 'Y',\n",
       "       'Y', 'Y', 'Y', 'Y', 'Y', 'Y', 'Y', 'N', 'Y', 'Y', 'Y', 'N', 'Y',\n",
       "       'N', 'Y', 'Y', 'Y', 'Y', 'N', 'Y', 'N', 'Y', 'Y', 'Y', 'Y', 'N',\n",
       "       'N', 'N', 'Y', 'Y', 'Y', 'Y', 'N', 'Y', 'N', 'N', 'Y', 'Y', 'Y',\n",
       "       'Y', 'Y', 'N', 'Y', 'Y', 'Y', 'Y', 'N', 'Y', 'Y', 'Y', 'Y', 'Y',\n",
       "       'N', 'Y', 'Y', 'N', 'Y', 'Y', 'Y', 'Y', 'Y', 'Y', 'Y', 'Y', 'Y',\n",
       "       'N', 'Y', 'N', 'N', 'Y', 'Y', 'Y', 'Y', 'N', 'Y', 'Y', 'Y', 'Y',\n",
       "       'N', 'Y', 'N', 'Y', 'Y', 'Y', 'N', 'N', 'Y', 'N', 'Y', 'Y', 'Y',\n",
       "       'Y', 'N', 'N', 'N', 'Y', 'N', 'Y', 'Y', 'Y', 'N', 'Y', 'Y', 'Y',\n",
       "       'Y', 'N', 'Y', 'Y', 'Y', 'Y', 'Y', 'N', 'Y', 'Y', 'N', 'Y', 'Y',\n",
       "       'Y', 'Y', 'Y', 'Y', 'Y', 'Y', 'N', 'Y', 'Y', 'N', 'N', 'N', 'Y',\n",
       "       'Y', 'N', 'Y', 'Y', 'Y', 'N', 'N', 'N', 'Y', 'N', 'Y', 'N', 'Y',\n",
       "       'N', 'N', 'Y', 'Y', 'Y', 'N', 'Y', 'N', 'Y', 'Y', 'N', 'Y', 'Y',\n",
       "       'Y', 'Y', 'N', 'Y', 'Y', 'Y', 'Y', 'Y', 'Y', 'N', 'Y', 'Y', 'Y',\n",
       "       'Y', 'Y', 'Y', 'Y', 'Y', 'N', 'N', 'N', 'N', 'Y', 'N', 'Y', 'Y',\n",
       "       'Y', 'Y', 'N', 'Y', 'N', 'Y', 'Y', 'Y', 'Y', 'N', 'Y', 'N', 'Y',\n",
       "       'Y', 'N', 'Y', 'N', 'Y', 'Y', 'Y', 'Y', 'Y', 'N', 'Y', 'N', 'Y',\n",
       "       'Y', 'Y', 'Y', 'Y', 'Y', 'N', 'N', 'Y', 'N', 'Y', 'Y', 'Y', 'Y',\n",
       "       'N', 'Y', 'Y', 'Y', 'Y', 'N', 'Y', 'Y', 'Y', 'N', 'Y', 'Y', 'Y',\n",
       "       'N', 'Y', 'Y', 'N', 'Y', 'Y', 'N', 'N', 'Y', 'Y', 'N', 'N', 'N',\n",
       "       'Y', 'Y', 'Y', 'Y', 'N', 'Y', 'Y', 'Y', 'Y', 'Y', 'Y', 'Y', 'N',\n",
       "       'N', 'Y', 'Y', 'Y', 'Y', 'N', 'Y', 'Y', 'N', 'Y', 'Y', 'Y', 'Y',\n",
       "       'N', 'Y', 'N', 'Y', 'N', 'Y', 'Y', 'N', 'N', 'Y', 'Y', 'Y', 'Y',\n",
       "       'Y', 'Y', 'Y', 'Y', 'Y', 'N', 'Y', 'Y', 'N', 'N', 'N', 'Y', 'N',\n",
       "       'Y', 'N', 'N', 'Y', 'N', 'Y', 'Y', 'Y', 'Y', 'N', 'Y', 'N', 'N',\n",
       "       'N', 'Y', 'Y', 'Y', 'N', 'Y', 'N', 'Y', 'Y', 'Y', 'Y', 'N', 'N',\n",
       "       'Y', 'Y', 'N', 'Y', 'Y', 'Y', 'Y', 'N', 'Y', 'Y', 'Y', 'Y', 'Y',\n",
       "       'Y', 'Y', 'N'], dtype=object)"
      ]
     },
     "execution_count": 248,
     "metadata": {},
     "output_type": "execute_result"
    }
   ],
   "source": [
    "y"
   ]
  },
  {
   "cell_type": "code",
   "execution_count": 249,
   "id": "1dd20eda",
   "metadata": {},
   "outputs": [],
   "source": [
    "#Spliting dataset for training and testing \n",
    "X_train, X_test, y_train, y_test = train_test_split(X, y, test_size = 0.2, random_state = 25)"
   ]
  },
  {
   "cell_type": "code",
   "execution_count": 205,
   "id": "723506fe",
   "metadata": {},
   "outputs": [],
   "source": [
    "#Enconding the variables will be very helpful to convert categoricals variables into numeric types.\n",
    "#Encoding the train categorical columns \n",
    "Labelencoder_x = LabelEncoder()\n",
    "Labelencoder_y = LabelEncoder()\n",
    "\n",
    "for i in range(0, 5):\n",
    "    X_train[:,i] = Labelencoder_x.fit_transform(X_train[:,i])\n",
    "X_train[:,7] = Labelencoder_x.fit_transform(X_train[:,7])\n",
    "    \n",
    "y_train = Labelencoder_y.fit_transform(y_train)"
   ]
  },
  {
   "cell_type": "code",
   "execution_count": 259,
   "id": "6bd00469",
   "metadata": {},
   "outputs": [
    {
     "data": {
      "text/plain": [
       "array([['Male', 'Yes', '1', ..., 1.0, 4.709530201312334, 5039.0],\n",
       "       ['Male', 'Yes', '0', ..., 1.0, 4.969813299576001, 5821.0],\n",
       "       ['Male', 'Yes', '1', ..., 1.0, 5.298317366548036, 6875.0],\n",
       "       ...,\n",
       "       ['Male', 'No', '2', ..., 1.0, 5.087596335232384, 10180.0],\n",
       "       ['Female', 'No', '1', ..., 1.0, 4.718498871295094, 3541.0],\n",
       "       ['Male', 'No', '0', ..., 1.0, 4.248495242049359, 2718.0]],\n",
       "      dtype=object)"
      ]
     },
     "execution_count": 259,
     "metadata": {},
     "output_type": "execute_result"
    }
   ],
   "source": [
    "X_train   "
   ]
  },
  {
   "cell_type": "code",
   "execution_count": 251,
   "id": "2f054462",
   "metadata": {},
   "outputs": [
    {
     "data": {
      "text/plain": [
       "array(['Y', 'Y', 'Y', 'N', 'Y', 'N', 'Y', 'N', 'Y', 'Y', 'N', 'Y', 'Y',\n",
       "       'N', 'Y', 'Y', 'Y', 'Y', 'Y', 'Y', 'Y', 'Y', 'Y', 'Y', 'N', 'Y',\n",
       "       'Y', 'Y', 'Y', 'Y', 'Y', 'Y', 'Y', 'N', 'Y', 'N', 'Y', 'Y', 'N',\n",
       "       'Y', 'Y', 'Y', 'Y', 'N', 'Y', 'Y', 'Y', 'N', 'N', 'Y', 'Y', 'N',\n",
       "       'Y', 'Y', 'Y', 'Y', 'Y', 'N', 'Y', 'Y', 'Y', 'Y', 'N', 'Y', 'Y',\n",
       "       'N', 'Y', 'Y', 'Y', 'Y', 'Y', 'Y', 'N', 'N', 'Y', 'N', 'Y', 'N',\n",
       "       'Y', 'N', 'Y', 'Y', 'Y', 'N', 'Y', 'Y', 'Y', 'Y', 'Y', 'Y', 'N',\n",
       "       'Y', 'Y', 'N', 'N', 'Y', 'Y', 'N', 'Y', 'Y', 'N', 'N', 'N', 'Y',\n",
       "       'N', 'N', 'Y', 'N', 'Y', 'N', 'N', 'N', 'N', 'Y', 'Y', 'N', 'Y',\n",
       "       'Y', 'N', 'N', 'Y', 'Y', 'Y', 'N', 'N', 'Y', 'N', 'N', 'Y', 'Y',\n",
       "       'Y', 'N', 'Y', 'Y', 'Y', 'Y', 'Y', 'N', 'N', 'Y', 'Y', 'N', 'Y',\n",
       "       'Y', 'N', 'Y', 'Y', 'Y', 'N', 'Y', 'N', 'Y', 'N', 'Y', 'N', 'Y',\n",
       "       'N', 'Y', 'N', 'N', 'N', 'Y', 'N', 'N', 'Y', 'Y', 'N', 'N', 'Y',\n",
       "       'Y', 'Y', 'N', 'N', 'Y', 'Y', 'Y', 'N', 'Y', 'N', 'Y', 'Y', 'N',\n",
       "       'Y', 'Y', 'Y', 'N', 'N', 'Y', 'Y', 'N', 'N', 'N', 'Y', 'N', 'N',\n",
       "       'Y', 'Y', 'Y', 'Y', 'Y', 'Y', 'N', 'Y', 'N', 'Y', 'Y', 'Y', 'Y',\n",
       "       'N', 'N', 'Y', 'Y', 'Y', 'Y', 'Y', 'Y', 'Y', 'Y', 'Y', 'Y', 'Y',\n",
       "       'Y', 'Y', 'N', 'N', 'Y', 'Y', 'N', 'Y', 'N', 'Y', 'Y', 'Y', 'N',\n",
       "       'Y', 'N', 'Y', 'Y', 'Y', 'Y', 'N', 'Y', 'Y', 'Y', 'N', 'Y', 'Y',\n",
       "       'Y', 'Y', 'N', 'Y', 'Y', 'N', 'N', 'N', 'Y', 'N', 'Y', 'Y', 'Y',\n",
       "       'N', 'N', 'Y', 'N', 'Y', 'Y', 'Y', 'Y', 'Y', 'N', 'N', 'Y', 'Y',\n",
       "       'Y', 'Y', 'N', 'N', 'N', 'Y', 'N', 'Y', 'Y', 'N', 'Y', 'Y', 'Y',\n",
       "       'N', 'Y', 'Y', 'N', 'Y', 'Y', 'Y', 'Y', 'Y', 'Y', 'Y', 'Y', 'Y',\n",
       "       'Y', 'N', 'Y', 'Y', 'Y', 'Y', 'Y', 'Y', 'N', 'Y', 'Y', 'N', 'Y',\n",
       "       'Y', 'Y', 'Y', 'Y', 'N', 'Y', 'Y', 'Y', 'N', 'Y', 'Y', 'Y', 'Y',\n",
       "       'Y', 'Y', 'N', 'Y', 'Y', 'N', 'Y', 'Y', 'Y', 'N', 'Y', 'N', 'Y',\n",
       "       'N', 'Y', 'Y', 'Y', 'N', 'N', 'Y', 'Y', 'Y', 'Y', 'Y', 'Y', 'Y',\n",
       "       'N', 'Y', 'Y', 'Y', 'Y', 'Y', 'Y', 'Y', 'Y', 'Y', 'Y', 'Y', 'Y',\n",
       "       'Y', 'Y', 'N', 'N', 'Y', 'Y', 'Y', 'Y', 'N', 'Y', 'Y', 'Y', 'N',\n",
       "       'N', 'Y', 'N', 'Y', 'N', 'Y', 'N', 'N', 'Y', 'Y', 'N', 'Y', 'Y',\n",
       "       'Y', 'Y', 'N', 'Y', 'Y', 'N', 'N', 'Y', 'Y', 'Y', 'N', 'Y', 'Y',\n",
       "       'Y', 'N', 'Y', 'Y', 'Y', 'Y', 'Y', 'N', 'N', 'Y', 'Y', 'N', 'Y',\n",
       "       'Y', 'Y', 'Y', 'Y', 'Y', 'Y', 'Y', 'N', 'Y', 'Y', 'N', 'N', 'Y',\n",
       "       'Y', 'N', 'N', 'Y', 'N', 'Y', 'Y', 'Y', 'N', 'Y', 'Y', 'N', 'Y',\n",
       "       'N', 'Y', 'Y', 'Y', 'Y', 'Y', 'Y', 'Y', 'Y', 'Y', 'N', 'Y', 'N',\n",
       "       'N', 'N', 'Y', 'Y', 'Y', 'N', 'Y', 'Y', 'Y', 'Y', 'Y', 'Y', 'N',\n",
       "       'Y', 'Y', 'Y', 'Y', 'Y', 'Y', 'Y', 'Y', 'N', 'Y', 'Y', 'Y', 'Y',\n",
       "       'Y', 'Y', 'N', 'Y', 'Y', 'Y', 'Y', 'Y', 'Y', 'Y'], dtype=object)"
      ]
     },
     "execution_count": 251,
     "metadata": {},
     "output_type": "execute_result"
    }
   ],
   "source": [
    "y_train"
   ]
  },
  {
   "cell_type": "code",
   "execution_count": 252,
   "id": "4617dab3",
   "metadata": {},
   "outputs": [],
   "source": [
    "#Encoding the test categorical columns \n",
    "for i in range(0,5):\n",
    "    X_test[:,i] = Labelencoder_x.fit_transform(X_test[:,i])\n",
    "X_test[:,7] = Labelencoder_x.fit_transform(X_test[:,7])\n",
    "\n",
    "y_test = Labelencoder_y.fit_transform(y_test)"
   ]
  },
  {
   "cell_type": "code",
   "execution_count": 253,
   "id": "0c8bfe7a",
   "metadata": {},
   "outputs": [
    {
     "data": {
      "text/plain": [
       "array([[1, 0, 2, 0, 5, 1.0, 4.672828834461906, 15],\n",
       "       [0, 0, 0, 0, 5, 1.0, 4.007333185232471, 114],\n",
       "       [1, 1, 0, 0, 5, 1.0, 5.541263545158426, 104],\n",
       "       [1, 1, 2, 0, 5, 1.0, 4.897839799950911, 40],\n",
       "       [1, 1, 1, 1, 2, 1.0, 4.919980925828125, 87],\n",
       "       [0, 0, 0, 0, 5, 1.0, 5.049856007249537, 73],\n",
       "       [1, 1, 0, 0, 2, 1.0, 3.7376696182833684, 18],\n",
       "       [0, 0, 0, 0, 5, 1.0, 4.0943445622221, 4],\n",
       "       [0, 1, 0, 0, 5, 1.0, 4.718498871295094, 37],\n",
       "       [0, 0, 0, 1, 5, 1.0, 4.553876891600541, 9],\n",
       "       [1, 1, 2, 1, 5, 1.0, 4.836281906951478, 58],\n",
       "       [0, 0, 3, 0, 2, 1.0, 5.857933154483459, 119],\n",
       "       [1, 1, 1, 0, 5, 1.0, 5.225746673713202, 55],\n",
       "       [1, 1, 2, 1, 5, 0.0, 4.718498871295094, 61],\n",
       "       [1, 1, 0, 0, 5, 1.0, 4.927253685157205, 70],\n",
       "       [1, 1, 2, 1, 5, 1.0, 4.727387818712341, 0],\n",
       "       [1, 0, 0, 0, 5, 1.0, 4.852030263919617, 90],\n",
       "       [1, 1, 0, 0, 5, 1.0, 4.787491742782046, 44],\n",
       "       [1, 1, 1, 1, 5, 0.0, 5.081404364984463, 89],\n",
       "       [1, 1, 1, 0, 5, 1.0, 4.700480365792417, 26],\n",
       "       [1, 1, 3, 0, 5, 0.0, 4.852030263919617, 43],\n",
       "       [1, 1, 0, 0, 5, 1.0, 6.345636360828596, 116],\n",
       "       [1, 0, 0, 0, 5, 0.0, 4.770684624465665, 81],\n",
       "       [1, 0, 0, 1, 5, 1.0, 4.007333185232471, 84],\n",
       "       [0, 0, 0, 0, 5, 1.0, 4.804021044733257, 11],\n",
       "       [1, 0, 0, 1, 5, 1.0, 4.700480365792417, 62],\n",
       "       [0, 0, 0, 0, 5, 0.0, 4.6443908991413725, 31],\n",
       "       [1, 1, 3, 1, 2, 0.0, 4.248495242049359, 39],\n",
       "       [1, 0, 3, 0, 5, 1.0, 5.220355825078324, 100],\n",
       "       [1, 1, 1, 1, 5, 1.0, 4.852030263919617, 49],\n",
       "       [0, 0, 0, 0, 5, 1.0, 4.882801922586371, 52],\n",
       "       [1, 0, 0, 0, 5, 1.0, 5.214935757608986, 107],\n",
       "       [0, 1, 0, 0, 5, 0.0, 4.653960350157523, 64],\n",
       "       [1, 0, 3, 0, 5, 1.0, 5.676753802268282, 101],\n",
       "       [1, 0, 0, 0, 5, 0.0, 5.488937726156687, 113],\n",
       "       [1, 1, 0, 0, 5, 1.0, 5.075173815233827, 51],\n",
       "       [1, 1, 1, 0, 5, 1.0, 5.560681631015528, 117],\n",
       "       [1, 0, 1, 1, 5, 0.0, 5.062595033026967, 82],\n",
       "       [1, 1, 2, 1, 5, 1.0, 4.574710978503383, 19],\n",
       "       [0, 0, 1, 0, 0, 1.0, 5.043425116919247, 13],\n",
       "       [1, 1, 1, 0, 5, 0.0, 5.19295685089021, 112],\n",
       "       [1, 1, 0, 0, 5, 1.0, 5.123963979403259, 72],\n",
       "       [1, 1, 1, 0, 5, 1.0, 5.231108616854587, 102],\n",
       "       [1, 0, 0, 0, 5, 1.0, 4.584967478670572, 3],\n",
       "       [0, 0, 0, 1, 5, 0.0, 4.382026634673881, 2],\n",
       "       [1, 1, 0, 1, 5, 0.0, 4.852030263919617, 78],\n",
       "       [0, 0, 0, 0, 5, 1.0, 3.828641396489095, 1],\n",
       "       [1, 1, 0, 1, 5, 1.0, 5.075173815233827, 74],\n",
       "       [0, 0, 0, 0, 5, 1.0, 3.9889840465642745, 12],\n",
       "       [0, 0, 0, 0, 5, 1.0, 4.74493212836325, 28],\n",
       "       [1, 0, 0, 0, 6, 1.0, 4.2626798770413155, 5],\n",
       "       [1, 1, 0, 1, 6, 0.0, 4.605170185988092, 42],\n",
       "       [1, 0, 0, 1, 5, 1.0, 4.836281906951478, 38],\n",
       "       [1, 0, 0, 0, 5, 0.0, 4.653960350157523, 83],\n",
       "       [1, 1, 0, 1, 5, 0.0, 5.303304908059076, 65],\n",
       "       [1, 1, 0, 0, 5, 1.0, 4.867534450455582, 33],\n",
       "       [1, 1, 0, 0, 5, 1.0, 5.19295685089021, 103],\n",
       "       [1, 1, 2, 0, 5, 1.0, 4.727387818712341, 35],\n",
       "       [1, 1, 0, 0, 1, 1.0, 3.2188758248682006, 10],\n",
       "       [1, 1, 0, 0, 5, 1.0, 4.8283137373023015, 67],\n",
       "       [1, 1, 0, 0, 5, 0.0, 5.10594547390058, 86],\n",
       "       [0, 0, 1, 0, 5, 1.0, 4.852030263919617, 93],\n",
       "       [0, 0, 0, 0, 5, 1.0, 3.784189633918261, 29],\n",
       "       [1, 1, 2, 0, 5, 1.0, 4.897839799950911, 45],\n",
       "       [1, 1, 3, 1, 5, 1.0, 4.30406509320417, 6],\n",
       "       [1, 1, 0, 0, 5, 1.0, 4.852030263919617, 79],\n",
       "       [1, 0, 0, 0, 5, 1.0, 6.003887067106539, 111],\n",
       "       [1, 1, 1, 0, 3, 1.0, 3.912023005428146, 25],\n",
       "       [1, 1, 0, 1, 5, 1.0, 4.787491742782046, 34],\n",
       "       [1, 1, 1, 0, 5, 1.0, 3.258096538021482, 83],\n",
       "       [1, 1, 0, 0, 5, 1.0, 4.700480365792417, 48],\n",
       "       [0, 0, 0, 0, 6, 0.0, 4.962844630259907, 63],\n",
       "       [1, 0, 0, 0, 5, 1.0, 5.099866427824199, 109],\n",
       "       [1, 1, 0, 0, 5, 1.0, 4.736198448394496, 55],\n",
       "       [1, 1, 0, 0, 4, 1.0, 4.553876891600541, 76],\n",
       "       [1, 1, 3, 0, 5, 1.0, 5.0106352940962555, 91],\n",
       "       [1, 1, 1, 0, 5, 1.0, 5.799092654460526, 105],\n",
       "       [1, 1, 3, 1, 5, 1.0, 4.867534450455582, 68],\n",
       "       [1, 1, 0, 0, 5, 1.0, 4.804021044733257, 53],\n",
       "       [1, 1, 1, 0, 5, 1.0, 4.852030263919617, 77],\n",
       "       [1, 1, 2, 0, 5, 1.0, 5.043425116919247, 56],\n",
       "       [1, 0, 0, 0, 5, 1.0, 4.248495242049359, 7],\n",
       "       [1, 1, 2, 0, 2, 1.0, 5.231108616854587, 108],\n",
       "       [0, 0, 0, 0, 5, 1.0, 4.532599493153256, 17],\n",
       "       [0, 0, 0, 0, 6, 1.0, 5.017279836814924, 94],\n",
       "       [1, 1, 0, 0, 5, 1.0, 5.075173815233827, 80],\n",
       "       [1, 1, 0, 0, 5, 1.0, 4.718498871295094, 20],\n",
       "       [1, 1, 0, 0, 5, 1.0, 5.332718793265369, 92],\n",
       "       [1, 1, 0, 0, 5, 1.0, 4.852030263919617, 71],\n",
       "       [1, 1, 0, 0, 5, 1.0, 4.852030263919617, 8],\n",
       "       [0, 0, 1, 0, 5, 1.0, 4.718498871295094, 21],\n",
       "       [1, 1, 2, 0, 5, 1.0, 5.075173815233827, 88],\n",
       "       [1, 1, 0, 0, 5, 1.0, 5.1647859739235145, 95],\n",
       "       [1, 1, 0, 0, 5, 1.0, 5.087596335232384, 85],\n",
       "       [1, 1, 0, 1, 5, 1.0, 4.553876891600541, 23],\n",
       "       [1, 1, 2, 1, 2, 1.0, 4.727387818712341, 16],\n",
       "       [1, 1, 2, 0, 5, 1.0, 4.564348191467836, 24],\n",
       "       [1, 0, 0, 1, 5, 1.0, 3.871201010907891, 50],\n",
       "       [1, 1, 1, 1, 5, 1.0, 4.499809670330265, 54],\n",
       "       [1, 0, 0, 1, 5, 0.0, 4.74493212836325, 75],\n",
       "       [1, 1, 0, 0, 2, 1.0, 4.248495242049359, 99],\n",
       "       [1, 0, 1, 0, 5, 1.0, 5.0238805208462765, 118],\n",
       "       [0, 1, 0, 0, 5, 1.0, 4.9344739331306915, 59],\n",
       "       [1, 1, 0, 0, 5, 1.0, 4.912654885736052, 106],\n",
       "       [1, 1, 2, 0, 5, 0.0, 4.276666119016055, 52],\n",
       "       [1, 1, 0, 0, 5, 0.0, 5.003946305945459, 66],\n",
       "       [1, 1, 0, 1, 5, 0.0, 5.198497031265826, 47],\n",
       "       [1, 1, 0, 0, 5, 1.0, 5.19295685089021, 97],\n",
       "       [1, 1, 0, 0, 5, 1.0, 5.541263545158426, 69],\n",
       "       [1, 1, 1, 0, 5, 1.0, 5.855071922202427, 115],\n",
       "       [1, 1, 2, 1, 5, 1.0, 4.700480365792417, 41],\n",
       "       [1, 1, 2, 0, 5, 1.0, 4.852030263919617, 36],\n",
       "       [0, 0, 0, 0, 5, 1.0, 4.700480365792417, 30],\n",
       "       [0, 0, 1, 0, 5, 1.0, 4.394449154672439, 46],\n",
       "       [1, 1, 0, 0, 5, 1.0, 5.1647859739235145, 98],\n",
       "       [1, 1, 1, 0, 5, 1.0, 4.605170185988092, 27],\n",
       "       [1, 1, 0, 1, 5, 1.0, 4.700480365792417, 32],\n",
       "       [1, 1, 0, 0, 5, 1.0, 5.030437921392435, 57],\n",
       "       [1, 1, 2, 1, 5, 1.0, 4.700480365792417, 60],\n",
       "       [1, 1, 1, 0, 5, 1.0, 4.442651256490317, 14],\n",
       "       [1, 0, 0, 0, 5, 1.0, 5.231108616854587, 110],\n",
       "       [0, 0, 0, 0, 2, 1.0, 4.7535901911063645, 22],\n",
       "       [1, 1, 0, 0, 5, 1.0, 5.616771097666572, 96]], dtype=object)"
      ]
     },
     "execution_count": 253,
     "metadata": {},
     "output_type": "execute_result"
    }
   ],
   "source": [
    "X_test"
   ]
  },
  {
   "cell_type": "code",
   "execution_count": 254,
   "id": "6aad1455",
   "metadata": {},
   "outputs": [
    {
     "data": {
      "text/plain": [
       "array([1, 1, 1, 0, 1, 1, 1, 1, 0, 0, 1, 0, 1, 0, 1, 0, 0, 1, 1, 0, 0, 0,\n",
       "       0, 1, 1, 1, 0, 0, 1, 1, 1, 1, 0, 1, 0, 1, 0, 0, 1, 0, 0, 1, 1, 1,\n",
       "       0, 0, 0, 0, 1, 1, 0, 0, 1, 0, 0, 1, 1, 1, 1, 1, 0, 1, 1, 1, 1, 1,\n",
       "       1, 1, 1, 1, 1, 0, 0, 1, 1, 1, 1, 1, 1, 0, 1, 1, 1, 1, 0, 1, 1, 1,\n",
       "       1, 1, 1, 1, 0, 1, 1, 1, 1, 1, 1, 0, 0, 1, 1, 1, 0, 0, 0, 1, 0, 0,\n",
       "       1, 0, 1, 0, 1, 1, 1, 1, 1, 1, 1, 1, 0])"
      ]
     },
     "execution_count": 254,
     "metadata": {},
     "output_type": "execute_result"
    }
   ],
   "source": [
    "y_test"
   ]
  },
  {
   "cell_type": "code",
   "execution_count": 261,
   "id": "9783387b",
   "metadata": {},
   "outputs": [],
   "source": [
    "#Scaling the dataset\n",
    "ss = StandardScaler()\n",
    "X_train = ss.fit_transform(X_train)\n",
    "x_test = ss.fit_transform(X_test)"
   ]
  },
  {
   "cell_type": "code",
   "execution_count": 262,
   "id": "2db5d3ed",
   "metadata": {},
   "outputs": [
    {
     "data": {
      "text/plain": [
       "array([['Male', 'Yes', '1', ..., 1.0, 4.709530201312334, 5039.0],\n",
       "       ['Male', 'Yes', '0', ..., 1.0, 4.969813299576001, 5821.0],\n",
       "       ['Male', 'Yes', '1', ..., 1.0, 5.298317366548036, 6875.0],\n",
       "       ...,\n",
       "       ['Male', 'No', '2', ..., 1.0, 5.087596335232384, 10180.0],\n",
       "       ['Female', 'No', '1', ..., 1.0, 4.718498871295094, 3541.0],\n",
       "       ['Male', 'No', '0', ..., 1.0, 4.248495242049359, 2718.0]],\n",
       "      dtype=object)"
      ]
     },
     "execution_count": 262,
     "metadata": {},
     "output_type": "execute_result"
    }
   ],
   "source": [
    "X_train"
   ]
  },
  {
   "cell_type": "code",
   "execution_count": 263,
   "id": "cc3ae0d1",
   "metadata": {},
   "outputs": [
    {
     "data": {
      "text/plain": [
       "array([[ 0.50507627, -1.36398868,  1.42732672, -0.56796183,  0.27062339,\n",
       "         0.45374261, -0.30651063, -1.30050908],\n",
       "       [-1.97989899, -1.36398868, -0.6878683 , -0.56796183,  0.27062339,\n",
       "         0.45374261, -1.66515654,  1.58669221],\n",
       "       [ 0.50507627,  0.73314391, -0.6878683 , -0.56796183,  0.27062339,\n",
       "         0.45374261,  1.46644651,  1.29505572],\n",
       "       [ 0.50507627,  0.73314391,  1.42732672, -0.56796183,  0.27062339,\n",
       "         0.45374261,  0.15286161, -0.57141785],\n",
       "       [ 0.50507627,  0.73314391,  0.36972921,  1.76068169, -2.85000257,\n",
       "         0.45374261,  0.19806393,  0.79927368],\n",
       "       [-1.97989899, -1.36398868, -0.6878683 , -0.56796183,  0.27062339,\n",
       "         0.45374261,  0.46321104,  0.39098258],\n",
       "       [ 0.50507627,  0.73314391, -0.6878683 , -0.56796183, -2.85000257,\n",
       "         0.45374261, -2.21568952, -1.21301813],\n",
       "       [-1.97989899, -1.36398868, -0.6878683 , -0.56796183,  0.27062339,\n",
       "         0.45374261, -1.48751804, -1.62130922],\n",
       "       [-1.97989899,  0.73314391, -0.6878683 , -0.56796183,  0.27062339,\n",
       "         0.45374261, -0.21327274, -0.65890879],\n",
       "       [-1.97989899, -1.36398868, -0.6878683 ,  1.76068169,  0.27062339,\n",
       "         0.45374261, -0.54935756, -1.47549098],\n",
       "       [ 0.50507627,  0.73314391,  1.42732672,  1.76068169,  0.27062339,\n",
       "         0.45374261,  0.02718779, -0.04647216],\n",
       "       [-1.97989899, -1.36398868,  2.48492423, -0.56796183, -2.85000257,\n",
       "         0.45374261,  2.11294491,  1.73251046],\n",
       "       [ 0.50507627,  0.73314391,  0.36972921, -0.56796183,  0.27062339,\n",
       "         0.45374261,  0.8223015 , -0.1339631 ],\n",
       "       [ 0.50507627,  0.73314391,  1.42732672,  1.76068169,  0.27062339,\n",
       "        -2.20389266, -0.21327274,  0.04101879],\n",
       "       [ 0.50507627,  0.73314391, -0.6878683 , -0.56796183,  0.27062339,\n",
       "         0.45374261,  0.21291167,  0.30349164],\n",
       "       [ 0.50507627,  0.73314391,  1.42732672,  1.76068169,  0.27062339,\n",
       "         0.45374261, -0.19512547, -1.73796382],\n",
       "       [ 0.50507627, -1.36398868, -0.6878683 , -0.56796183,  0.27062339,\n",
       "         0.45374261,  0.05933893,  0.88676462],\n",
       "       [ 0.50507627,  0.73314391, -0.6878683 , -0.56796183,  0.27062339,\n",
       "         0.45374261, -0.07242001, -0.45476325],\n",
       "       [ 0.50507627,  0.73314391,  0.36972921,  1.76068169,  0.27062339,\n",
       "        -2.20389266,  0.52761875,  0.85760097],\n",
       "       [ 0.50507627,  0.73314391,  0.36972921, -0.56796183,  0.27062339,\n",
       "         0.45374261, -0.25005851, -0.97970894],\n",
       "       [ 0.50507627,  0.73314391,  2.48492423, -0.56796183,  0.27062339,\n",
       "        -2.20389266,  0.05933893, -0.4839269 ],\n",
       "       [ 0.50507627,  0.73314391, -0.6878683 , -0.56796183,  0.27062339,\n",
       "         0.45374261,  3.10861779,  1.64501951],\n",
       "       [ 0.50507627, -1.36398868, -0.6878683 , -0.56796183,  0.27062339,\n",
       "        -2.20389266, -0.10673266,  0.62429178],\n",
       "       [ 0.50507627, -1.36398868, -0.6878683 ,  1.76068169,  0.27062339,\n",
       "         0.45374261, -1.66515654,  0.71178273],\n",
       "       [-1.97989899, -1.36398868, -0.6878683 , -0.56796183,  0.27062339,\n",
       "         0.45374261, -0.03867453, -1.41716368],\n",
       "       [ 0.50507627, -1.36398868, -0.6878683 ,  1.76068169,  0.27062339,\n",
       "         0.45374261, -0.25005851,  0.07018244],\n",
       "       [-1.97989899, -1.36398868, -0.6878683 , -0.56796183,  0.27062339,\n",
       "        -2.20389266, -0.36456824, -0.83389069],\n",
       "       [ 0.50507627,  0.73314391,  2.48492423,  1.76068169, -2.85000257,\n",
       "        -2.20389266, -1.17281096, -0.6005815 ],\n",
       "       [ 0.50507627, -1.36398868,  2.48492423, -0.56796183,  0.27062339,\n",
       "         0.45374261,  0.81129578,  1.17840112],\n",
       "       [ 0.50507627,  0.73314391,  0.36972921,  1.76068169,  0.27062339,\n",
       "         0.45374261,  0.05933893, -0.308945  ],\n",
       "       [-1.97989899, -1.36398868, -0.6878683 , -0.56796183,  0.27062339,\n",
       "         0.45374261,  0.12216096, -0.22145405],\n",
       "       [ 0.50507627, -1.36398868, -0.6878683 , -0.56796183,  0.27062339,\n",
       "         0.45374261,  0.80023042,  1.38254666],\n",
       "       [-1.97989899,  0.73314391, -0.6878683 , -0.56796183,  0.27062339,\n",
       "        -2.20389266, -0.34503168,  0.12850974],\n",
       "       [ 0.50507627, -1.36398868,  2.48492423, -0.56796183,  0.27062339,\n",
       "         0.45374261,  1.74305731,  1.20756477],\n",
       "       [ 0.50507627, -1.36398868, -0.6878683 , -0.56796183,  0.27062339,\n",
       "        -2.20389266,  1.35962048,  1.55752856],\n",
       "       [ 0.50507627,  0.73314391, -0.6878683 , -0.56796183,  0.27062339,\n",
       "         0.45374261,  0.51489874, -0.2506177 ],\n",
       "       [ 0.50507627,  0.73314391,  0.36972921, -0.56796183,  0.27062339,\n",
       "         0.45374261,  1.5060896 ,  1.67418316],\n",
       "       [ 0.50507627, -1.36398868,  0.36972921,  1.76068169,  0.27062339,\n",
       "        -2.20389266,  0.48921846,  0.65345543],\n",
       "       [ 0.50507627,  0.73314391,  1.42732672,  1.76068169,  0.27062339,\n",
       "         0.45374261, -0.50682362, -1.18385448],\n",
       "       [-1.97989899, -1.36398868,  0.36972921, -0.56796183, -4.93041988,\n",
       "         0.45374261,  0.45008203, -1.35883638],\n",
       "       [ 0.50507627,  0.73314391,  0.36972921, -0.56796183,  0.27062339,\n",
       "        -2.20389266,  0.75535927,  1.52836491],\n",
       "       [ 0.50507627,  0.73314391, -0.6878683 , -0.56796183,  0.27062339,\n",
       "         0.45374261,  0.61450654,  0.36181893],\n",
       "       [ 0.50507627,  0.73314391,  0.36972921, -0.56796183,  0.27062339,\n",
       "         0.45374261,  0.8332482 ,  1.23672842],\n",
       "       [ 0.50507627, -1.36398868, -0.6878683 , -0.56796183,  0.27062339,\n",
       "         0.45374261, -0.48588442, -1.65047287],\n",
       "       [-1.97989899, -1.36398868, -0.6878683 ,  1.76068169,  0.27062339,\n",
       "        -2.20389266, -0.90019929, -1.67963652],\n",
       "       [ 0.50507627,  0.73314391, -0.6878683 ,  1.76068169,  0.27062339,\n",
       "        -2.20389266,  0.05933893,  0.53680083],\n",
       "       [-1.97989899, -1.36398868, -0.6878683 , -0.56796183,  0.27062339,\n",
       "         0.45374261, -2.02996564, -1.70880017],\n",
       "       [ 0.50507627,  0.73314391, -0.6878683 ,  1.76068169,  0.27062339,\n",
       "         0.45374261,  0.51489874,  0.42014623],\n",
       "       [-1.97989899, -1.36398868, -0.6878683 , -0.56796183,  0.27062339,\n",
       "         0.45374261, -1.70261732, -1.38800003],\n",
       "       [-1.97989899, -1.36398868, -0.6878683 , -0.56796183,  0.27062339,\n",
       "         0.45374261, -0.1593078 , -0.92138164],\n",
       "       [ 0.50507627, -1.36398868, -0.6878683 , -0.56796183,  1.31083204,\n",
       "         0.45374261, -1.14385225, -1.59214557],\n",
       "       [ 0.50507627,  0.73314391, -0.6878683 ,  1.76068169,  1.31083204,\n",
       "        -2.20389266, -0.44463948, -0.51309055],\n",
       "       [ 0.50507627, -1.36398868, -0.6878683 ,  1.76068169,  0.27062339,\n",
       "         0.45374261,  0.02718779, -0.62974514],\n",
       "       [ 0.50507627, -1.36398868, -0.6878683 , -0.56796183,  0.27062339,\n",
       "        -2.20389266, -0.34503168,  0.68261908],\n",
       "       [ 0.50507627,  0.73314391, -0.6878683 ,  1.76068169,  0.27062339,\n",
       "        -2.20389266,  0.98064089,  0.15767339],\n",
       "       [ 0.50507627,  0.73314391, -0.6878683 , -0.56796183,  0.27062339,\n",
       "         0.45374261,  0.09099157, -0.77556339],\n",
       "       [ 0.50507627,  0.73314391, -0.6878683 , -0.56796183,  0.27062339,\n",
       "         0.45374261,  0.75535927,  1.26589207],\n",
       "       [ 0.50507627,  0.73314391,  1.42732672, -0.56796183,  0.27062339,\n",
       "         0.45374261, -0.19512547, -0.71723609],\n",
       "       [ 0.50507627,  0.73314391, -0.6878683 , -0.56796183, -3.89021123,\n",
       "         0.45374261, -3.27483554, -1.44632733],\n",
       "       [ 0.50507627,  0.73314391, -0.6878683 , -0.56796183,  0.27062339,\n",
       "         0.45374261,  0.01092033,  0.21600069],\n",
       "       [ 0.50507627,  0.73314391, -0.6878683 , -0.56796183,  0.27062339,\n",
       "        -2.20389266,  0.57772077,  0.77011003],\n",
       "       [-1.97989899, -1.36398868,  0.36972921, -0.56796183,  0.27062339,\n",
       "         0.45374261,  0.05933893,  0.97425557],\n",
       "       [-1.97989899, -1.36398868, -0.6878683 , -0.56796183,  0.27062339,\n",
       "         0.45374261, -2.12071636, -0.89221799],\n",
       "       [ 0.50507627,  0.73314391,  1.42732672, -0.56796183,  0.27062339,\n",
       "         0.45374261,  0.15286161, -0.4255996 ],\n",
       "       [ 0.50507627,  0.73314391,  2.48492423,  1.76068169,  0.27062339,\n",
       "         0.45374261, -1.05936206, -1.56298193],\n",
       "       [ 0.50507627,  0.73314391, -0.6878683 , -0.56796183,  0.27062339,\n",
       "         0.45374261,  0.05933893,  0.56596448],\n",
       "       [ 0.50507627, -1.36398868, -0.6878683 , -0.56796183,  0.27062339,\n",
       "         0.45374261,  2.41091784,  1.49920126],\n",
       "       [ 0.50507627,  0.73314391,  0.36972921, -0.56796183, -1.80979392,\n",
       "         0.45374261, -1.85973751, -1.00887259],\n",
       "       [ 0.50507627,  0.73314391, -0.6878683 ,  1.76068169,  0.27062339,\n",
       "         0.45374261, -0.07242001, -0.74639974],\n",
       "       [ 0.50507627,  0.73314391,  0.36972921, -0.56796183,  0.27062339,\n",
       "         0.45374261, -3.1947643 ,  0.68261908],\n",
       "       [ 0.50507627,  0.73314391, -0.6878683 , -0.56796183,  0.27062339,\n",
       "         0.45374261, -0.25005851, -0.33810865],\n",
       "       [-1.97989899, -1.36398868, -0.6878683 , -0.56796183,  1.31083204,\n",
       "        -2.20389266,  0.28557254,  0.09934609],\n",
       "       [ 0.50507627, -1.36398868, -0.6878683 , -0.56796183,  0.27062339,\n",
       "         0.45374261,  0.56531006,  1.44087396],\n",
       "       [ 0.50507627,  0.73314391, -0.6878683 , -0.56796183,  0.27062339,\n",
       "         0.45374261, -0.17713809, -0.1339631 ],\n",
       "       [ 0.50507627,  0.73314391, -0.6878683 , -0.56796183, -0.76958526,\n",
       "         0.45374261, -0.54935756,  0.47847353],\n",
       "       [ 0.50507627,  0.73314391,  2.48492423, -0.56796183,  0.27062339,\n",
       "         0.45374261,  0.3831398 ,  0.91592827],\n",
       "       [ 0.50507627,  0.73314391,  0.36972921, -0.56796183,  0.27062339,\n",
       "         0.45374261,  1.9928188 ,  1.32421936],\n",
       "       [ 0.50507627,  0.73314391,  2.48492423,  1.76068169,  0.27062339,\n",
       "         0.45374261,  0.09099157,  0.24516434],\n",
       "       [ 0.50507627,  0.73314391, -0.6878683 , -0.56796183,  0.27062339,\n",
       "         0.45374261, -0.03867453, -0.1922904 ],\n",
       "       [ 0.50507627,  0.73314391,  0.36972921, -0.56796183,  0.27062339,\n",
       "         0.45374261,  0.05933893,  0.50763718],\n",
       "       [ 0.50507627,  0.73314391,  1.42732672, -0.56796183,  0.27062339,\n",
       "         0.45374261,  0.45008203, -0.10479946],\n",
       "       [ 0.50507627, -1.36398868, -0.6878683 , -0.56796183,  0.27062339,\n",
       "         0.45374261, -1.17281096, -1.53381828],\n",
       "       [ 0.50507627,  0.73314391,  1.42732672, -0.56796183, -2.85000257,\n",
       "         0.45374261,  0.8332482 ,  1.41171031],\n",
       "       [-1.97989899, -1.36398868, -0.6878683 , -0.56796183,  0.27062339,\n",
       "         0.45374261, -0.59279653, -1.24218178],\n",
       "       [-1.97989899, -1.36398868, -0.6878683 , -0.56796183,  1.31083204,\n",
       "         0.45374261,  0.396705  ,  1.00341922],\n",
       "       [ 0.50507627,  0.73314391, -0.6878683 , -0.56796183,  0.27062339,\n",
       "         0.45374261,  0.51489874,  0.59512813],\n",
       "       [ 0.50507627,  0.73314391, -0.6878683 , -0.56796183,  0.27062339,\n",
       "         0.45374261, -0.21327274, -1.15469083],\n",
       "       [ 0.50507627,  0.73314391, -0.6878683 , -0.56796183,  0.27062339,\n",
       "         0.45374261,  1.04069095,  0.94509192],\n",
       "       [ 0.50507627,  0.73314391, -0.6878683 , -0.56796183,  0.27062339,\n",
       "         0.45374261,  0.05933893,  0.33265529],\n",
       "       [ 0.50507627,  0.73314391, -0.6878683 , -0.56796183,  0.27062339,\n",
       "         0.45374261,  0.05933893, -1.50465463],\n",
       "       [-1.97989899, -1.36398868,  0.36972921, -0.56796183,  0.27062339,\n",
       "         0.45374261, -0.21327274, -1.12552718],\n",
       "       [ 0.50507627,  0.73314391,  1.42732672, -0.56796183,  0.27062339,\n",
       "         0.45374261,  0.51489874,  0.82843732],\n",
       "       [ 0.50507627,  0.73314391, -0.6878683 , -0.56796183,  0.27062339,\n",
       "         0.45374261,  0.69784688,  1.03258287],\n",
       "       [ 0.50507627,  0.73314391, -0.6878683 , -0.56796183,  0.27062339,\n",
       "         0.45374261,  0.54025999,  0.74094638],\n",
       "       [ 0.50507627,  0.73314391, -0.6878683 ,  1.76068169,  0.27062339,\n",
       "         0.45374261, -0.54935756, -1.06719989],\n",
       "       [ 0.50507627,  0.73314391,  1.42732672,  1.76068169, -2.85000257,\n",
       "         0.45374261, -0.19512547, -1.27134543],\n",
       "       [ 0.50507627,  0.73314391,  1.42732672, -0.56796183,  0.27062339,\n",
       "         0.45374261, -0.52797982, -1.03803624],\n",
       "       [ 0.50507627, -1.36398868, -0.6878683 ,  1.76068169,  0.27062339,\n",
       "         0.45374261, -1.94307785, -0.27978135],\n",
       "       [ 0.50507627,  0.73314391,  0.36972921,  1.76068169,  0.27062339,\n",
       "         0.45374261, -0.65973876, -0.16312675],\n",
       "       [ 0.50507627, -1.36398868, -0.6878683 ,  1.76068169,  0.27062339,\n",
       "        -2.20389266, -0.1593078 ,  0.44930988],\n",
       "       [ 0.50507627,  0.73314391, -0.6878683 , -0.56796183, -2.85000257,\n",
       "         0.45374261, -1.17281096,  1.14923747],\n",
       "       [ 0.50507627, -1.36398868,  0.36972921, -0.56796183,  0.27062339,\n",
       "         0.45374261,  0.41018066,  1.70334681],\n",
       "       [-1.97989899,  0.73314391, -0.6878683 , -0.56796183,  0.27062339,\n",
       "         0.45374261,  0.2276522 , -0.01730851],\n",
       "       [ 0.50507627,  0.73314391, -0.6878683 , -0.56796183,  0.27062339,\n",
       "         0.45374261,  0.18310742,  1.35338301],\n",
       "       [ 0.50507627,  0.73314391,  1.42732672, -0.56796183,  0.27062339,\n",
       "        -2.20389266, -1.11529857, -0.22145405],\n",
       "       [ 0.50507627,  0.73314391, -0.6878683 , -0.56796183,  0.27062339,\n",
       "        -2.20389266,  0.36948387,  0.18683704],\n",
       "       [ 0.50507627,  0.73314391, -0.6878683 ,  1.76068169,  0.27062339,\n",
       "        -2.20389266,  0.76666986, -0.3672723 ],\n",
       "       [ 0.50507627,  0.73314391, -0.6878683 , -0.56796183,  0.27062339,\n",
       "         0.45374261,  0.75535927,  1.09091017],\n",
       "       [ 0.50507627,  0.73314391, -0.6878683 , -0.56796183,  0.27062339,\n",
       "         0.45374261,  1.46644651,  0.27432799],\n",
       "       [ 0.50507627,  0.73314391,  0.36972921, -0.56796183,  0.27062339,\n",
       "         0.45374261,  2.10710355,  1.61585586],\n",
       "       [ 0.50507627,  0.73314391,  1.42732672,  1.76068169,  0.27062339,\n",
       "         0.45374261, -0.25005851, -0.5422542 ],\n",
       "       [ 0.50507627,  0.73314391,  1.42732672, -0.56796183,  0.27062339,\n",
       "         0.45374261,  0.05933893, -0.68807244],\n",
       "       [-1.97989899, -1.36398868, -0.6878683 , -0.56796183,  0.27062339,\n",
       "         0.45374261, -0.25005851, -0.86305434],\n",
       "       [-1.97989899, -1.36398868,  0.36972921, -0.56796183,  0.27062339,\n",
       "         0.45374261, -0.87483803, -0.39643595],\n",
       "       [ 0.50507627,  0.73314391, -0.6878683 , -0.56796183,  0.27062339,\n",
       "         0.45374261,  0.69784688,  1.12007382],\n",
       "       [ 0.50507627,  0.73314391,  0.36972921, -0.56796183,  0.27062339,\n",
       "         0.45374261, -0.44463948, -0.95054529],\n",
       "       [ 0.50507627,  0.73314391, -0.6878683 ,  1.76068169,  0.27062339,\n",
       "         0.45374261, -0.25005851, -0.80472704],\n",
       "       [ 0.50507627,  0.73314391, -0.6878683 , -0.56796183,  0.27062339,\n",
       "         0.45374261,  0.42356795, -0.07563581],\n",
       "       [ 0.50507627,  0.73314391,  1.42732672,  1.76068169,  0.27062339,\n",
       "         0.45374261, -0.25005851,  0.01185514],\n",
       "       [ 0.50507627,  0.73314391,  0.36972921, -0.56796183,  0.27062339,\n",
       "         0.45374261, -0.7764308 , -1.32967273],\n",
       "       [ 0.50507627, -1.36398868, -0.6878683 , -0.56796183,  0.27062339,\n",
       "         0.45374261,  0.8332482 ,  1.47003761],\n",
       "       [-1.97989899, -1.36398868, -0.6878683 , -0.56796183, -2.85000257,\n",
       "         0.45374261, -0.14163189, -1.09636353],\n",
       "       [ 0.50507627,  0.73314391, -0.6878683 , -0.56796183,  0.27062339,\n",
       "         0.45374261,  1.62059933,  1.06174652]])"
      ]
     },
     "execution_count": 263,
     "metadata": {},
     "output_type": "execute_result"
    }
   ],
   "source": [
    "x_test"
   ]
  },
  {
   "cell_type": "markdown",
   "id": "fb3ba25d",
   "metadata": {},
   "source": [
    "### Random Forest model"
   ]
  },
  {
   "cell_type": "code",
   "execution_count": null,
   "id": "28112db7",
   "metadata": {},
   "outputs": [],
   "source": [
    "#Model buiding\n",
    "rf_model = RandomForestClassifier() \n",
    "rf_model.fit(X_train, y_train)\n",
    "y_pred_rf = rf_model.predict(X_test)\n",
    "y_pred_rf "
   ]
  },
  {
   "cell_type": "code",
   "execution_count": 215,
   "id": "14fa87b4",
   "metadata": {},
   "outputs": [
    {
     "name": "stdout",
     "output_type": "stream",
     "text": [
      "Random Forest Accuracy: 0.36585365853658536\n",
      "--------------------------------------------------\n",
      "Confusion Matrix:\n",
      " [[28 15]\n",
      " [63 17]]\n",
      "--------------------------------------------------\n",
      "Classification Report:\n",
      "               precision    recall  f1-score   support\n",
      "\n",
      "           0       0.31      0.65      0.42        43\n",
      "           1       0.53      0.21      0.30        80\n",
      "\n",
      "    accuracy                           0.37       123\n",
      "   macro avg       0.42      0.43      0.36       123\n",
      "weighted avg       0.45      0.37      0.34       123\n",
      "\n"
     ]
    }
   ],
   "source": [
    "#Model evaluation\n",
    "print(\"Random Forest Accuracy:\", accuracy_score(y_test, y_pred_rf))\n",
    "print(\"-\"*50)\n",
    "print(\"Confusion Matrix:\\n\", confusion_matrix(y_test, y_pred_rf))\n",
    "print(\"-\"*50)\n",
    "print(\"Classification Report:\\n\", classification_report(y_test, y_pred_rf))"
   ]
  },
  {
   "cell_type": "markdown",
   "id": "ba8437ea",
   "metadata": {},
   "source": [
    "**Conclusion**: the accuracy of 59.35% is relatively low, indicating that the Random Forest model may not perform well enough for reliable decision-making in the context of loan approval prediction."
   ]
  },
  {
   "cell_type": "markdown",
   "id": "c46f11f8",
   "metadata": {},
   "source": [
    "### Decision Tree Clasifier model"
   ]
  },
  {
   "cell_type": "code",
   "execution_count": 216,
   "id": "2cfd6f76",
   "metadata": {},
   "outputs": [
    {
     "data": {
      "text/plain": [
       "array([1, 1, 1, 1, 0, 1, 1, 1, 1, 0, 0, 1, 1, 0, 1, 0, 1, 1, 0, 1, 1, 1,\n",
       "       1, 0, 1, 0, 1, 0, 1, 0, 1, 1, 1, 1, 1, 1, 1, 0, 0, 1, 1, 1, 1, 1,\n",
       "       0, 0, 0, 0, 1, 1, 1, 0, 0, 1, 0, 1, 1, 1, 1, 1, 1, 1, 1, 1, 0, 1,\n",
       "       1, 1, 0, 1, 1, 1, 1, 1, 1, 1, 1, 0, 1, 1, 1, 1, 1, 1, 1, 1, 1, 1,\n",
       "       1, 1, 1, 1, 1, 1, 0, 0, 1, 0, 0, 0, 1, 1, 1, 1, 1, 1, 0, 1, 1, 1,\n",
       "       0, 1, 1, 1, 1, 1, 0, 1, 0, 1, 1, 1, 1])"
      ]
     },
     "execution_count": 216,
     "metadata": {},
     "output_type": "execute_result"
    }
   ],
   "source": [
    "#Model building\n",
    "dt_model = DecisionTreeClassifier(random_state=25)\n",
    "dt_model.fit(X_train, y_train)\n",
    "y_pred_dt = dt_model.predict(X_test)\n",
    "y_pred_dt"
   ]
  },
  {
   "cell_type": "code",
   "execution_count": 217,
   "id": "70ae548e",
   "metadata": {},
   "outputs": [
    {
     "name": "stdout",
     "output_type": "stream",
     "text": [
      "Decision Tree Accuracy: 0.6097560975609756\n",
      "--------------------------------------------------\n",
      "Confusion Matrix:\n",
      " [[13 30]\n",
      " [18 62]]\n",
      "--------------------------------------------------\n",
      "Classification Report:\n",
      "               precision    recall  f1-score   support\n",
      "\n",
      "           0       0.42      0.30      0.35        43\n",
      "           1       0.67      0.78      0.72        80\n",
      "\n",
      "    accuracy                           0.61       123\n",
      "   macro avg       0.55      0.54      0.54       123\n",
      "weighted avg       0.58      0.61      0.59       123\n",
      "\n"
     ]
    }
   ],
   "source": [
    "#Model evaluation\n",
    "print(\"Decision Tree Accuracy:\", accuracy_score(y_test, y_pred_dt))\n",
    "print(\"-\"*50)\n",
    "print(\"Confusion Matrix:\\n\", confusion_matrix(y_test, y_pred_dt))\n",
    "print(\"-\"*50)\n",
    "print(\"Classification Report:\\n\", classification_report(y_test, y_pred_dt))"
   ]
  },
  {
   "cell_type": "markdown",
   "id": "9955c7b7",
   "metadata": {},
   "source": [
    "**Conclusion**: the Decision Tree model achieved an accuracy of 60.98%, reflecting a modest improvement over the Random Forest model. While this score indicates some ability to differentiate between approved and rejected loan applicants, it remains insufficient for reliable decision-making."
   ]
  },
  {
   "cell_type": "markdown",
   "id": "730d4772",
   "metadata": {},
   "source": [
    "### Naive_Bayes model"
   ]
  },
  {
   "cell_type": "code",
   "execution_count": 218,
   "id": "fb3e51c8",
   "metadata": {},
   "outputs": [
    {
     "data": {
      "text/plain": [
       "array([0, 0, 0, 0, 0, 0, 0, 1, 0, 0, 0, 0, 0, 0, 0, 1, 0, 0, 0, 0, 0, 0,\n",
       "       0, 0, 0, 0, 0, 0, 0, 0, 0, 0, 0, 0, 0, 0, 0, 0, 0, 0, 0, 0, 0, 1,\n",
       "       1, 0, 1, 0, 0, 0, 1, 0, 0, 0, 0, 0, 0, 0, 0, 0, 0, 0, 0, 0, 0, 0,\n",
       "       0, 0, 0, 0, 0, 0, 0, 0, 0, 0, 0, 0, 0, 0, 0, 0, 0, 0, 0, 0, 0, 0,\n",
       "       0, 0, 0, 0, 0, 0, 0, 0, 0, 0, 0, 0, 0, 0, 0, 0, 0, 0, 0, 0, 0, 0,\n",
       "       0, 0, 0, 0, 0, 0, 0, 0, 0, 0, 0, 0, 0])"
      ]
     },
     "execution_count": 218,
     "metadata": {},
     "output_type": "execute_result"
    }
   ],
   "source": [
    "#Model building\n",
    "nb_model = GaussianNB()\n",
    "nb_model.fit(X_train, y_train)\n",
    "y_pred_nb = nb_model.predict(X_test)\n",
    "y_pred_nb"
   ]
  },
  {
   "cell_type": "code",
   "execution_count": 219,
   "id": "94880f3c",
   "metadata": {},
   "outputs": [
    {
     "name": "stdout",
     "output_type": "stream",
     "text": [
      "Naive Bayes Accuracy: 0.3333333333333333\n",
      "--------------------------------------------------\n",
      "Confusion Matrix:\n",
      " [[39  4]\n",
      " [78  2]]\n",
      "--------------------------------------------------\n",
      "Classification Report:\n",
      "               precision    recall  f1-score   support\n",
      "\n",
      "           0       0.33      0.91      0.49        43\n",
      "           1       0.33      0.03      0.05        80\n",
      "\n",
      "    accuracy                           0.33       123\n",
      "   macro avg       0.33      0.47      0.27       123\n",
      "weighted avg       0.33      0.33      0.20       123\n",
      "\n"
     ]
    }
   ],
   "source": [
    "#Model evaluation\n",
    "print(\"Naive Bayes Accuracy:\", accuracy_score(y_test, y_pred_nb))\n",
    "print(\"-\"*50)\n",
    "print(\"Confusion Matrix:\\n\", confusion_matrix(y_test, y_pred_nb))\n",
    "print(\"-\"*50)\n",
    "print(\"Classification Report:\\n\", classification_report(y_test, y_pred_nb))"
   ]
  },
  {
   "cell_type": "markdown",
   "id": "0e93e876",
   "metadata": {},
   "source": [
    "**Conclusion**: the Naive Bayes model achieved an accuracy of 33.33%, which is very low and suggests that the model performs poorly in distinguishing between approved and rejected loan applicants. This level of accuracy indicates that the model is not suitable at all for reliable decision-making in this context."
   ]
  },
  {
   "cell_type": "markdown",
   "id": "81a8cb99",
   "metadata": {},
   "source": [
    "### XGBOOST model"
   ]
  },
  {
   "cell_type": "code",
   "execution_count": 221,
   "id": "43b62589",
   "metadata": {},
   "outputs": [
    {
     "data": {
      "text/plain": [
       "array([1, 1, 1, 1, 1, 1, 1, 1, 1, 1, 1, 1, 1, 0, 1, 1, 1, 1, 0, 1, 1, 1,\n",
       "       0, 1, 1, 1, 1, 1, 1, 1, 1, 1, 0, 1, 0, 1, 1, 0, 1, 1, 0, 1, 1, 1,\n",
       "       1, 0, 1, 1, 1, 1, 1, 0, 1, 0, 0, 1, 1, 1, 1, 1, 0, 1, 1, 1, 1, 1,\n",
       "       1, 1, 1, 1, 1, 1, 1, 1, 1, 1, 1, 1, 1, 1, 1, 1, 1, 1, 1, 1, 1, 1,\n",
       "       1, 1, 1, 1, 1, 1, 1, 1, 1, 1, 1, 0, 1, 1, 1, 1, 0, 0, 0, 1, 1, 1,\n",
       "       1, 1, 1, 1, 1, 1, 1, 1, 1, 1, 1, 1, 1])"
      ]
     },
     "execution_count": 221,
     "metadata": {},
     "output_type": "execute_result"
    }
   ],
   "source": [
    "#Model building\n",
    "xgb_model = xgb.XGBClassifier(random_state=25)\n",
    "xgb_model.fit(X_train, y_train)\n",
    "y_pred_xgb = xgb_model.predict(X_test)\n",
    "y_pred_xgb"
   ]
  },
  {
   "cell_type": "code",
   "execution_count": 222,
   "id": "af09114d",
   "metadata": {},
   "outputs": [
    {
     "name": "stdout",
     "output_type": "stream",
     "text": [
      "XGBoost Accuracy:  0.7642276422764228\n",
      "Confusion Matrix:\n",
      " [[15 28]\n",
      " [ 1 79]]\n",
      "Classification Report:\n",
      "               precision    recall  f1-score   support\n",
      "\n",
      "           0       0.94      0.35      0.51        43\n",
      "           1       0.74      0.99      0.84        80\n",
      "\n",
      "    accuracy                           0.76       123\n",
      "   macro avg       0.84      0.67      0.68       123\n",
      "weighted avg       0.81      0.76      0.73       123\n",
      "\n"
     ]
    }
   ],
   "source": [
    "#Model evaluation\n",
    "print(\"XGBoost Accuracy: \", accuracy_score(y_test, y_pred_xgb))\n",
    "print(\"Confusion Matrix:\\n\", confusion_matrix(y_test, y_pred_xgb))\n",
    "print(\"Classification Report:\\n\", classification_report(y_test, y_pred_xgb))"
   ]
  },
  {
   "cell_type": "markdown",
   "id": "c06acfa7",
   "metadata": {},
   "source": [
    "**Conclusion**: the XGBoost model achieved an accuracy of 76.42%, indicating a significant improvement compared to previous models. This suggests that XGBoost is more effective at predicting loan approvals, making it a more reliable choice for decision-making in this context."
   ]
  },
  {
   "cell_type": "markdown",
   "id": "c03d1574",
   "metadata": {},
   "source": [
    "## Conclusion"
   ]
  },
  {
   "cell_type": "markdown",
   "id": "e0e1edda",
   "metadata": {},
   "source": [
    "In conclusion, this project serves as a practical example of the application of machine learning techniques in the finance sector. After thorough data cleaning and exploration, various models were tested, with XGBoost achieving the highest accuracy of **76.42%**. While these results are promising, there is potential for further improvements to enhance the model's performance. Overall, the project underscores the significant role that data-driven insights play in informing financial decisions."
   ]
  }
 ],
 "metadata": {
  "kernelspec": {
   "display_name": "Python 3 (ipykernel)",
   "language": "python",
   "name": "python3"
  },
  "language_info": {
   "codemirror_mode": {
    "name": "ipython",
    "version": 3
   },
   "file_extension": ".py",
   "mimetype": "text/x-python",
   "name": "python",
   "nbconvert_exporter": "python",
   "pygments_lexer": "ipython3",
   "version": "3.11.5"
  }
 },
 "nbformat": 4,
 "nbformat_minor": 5
}
